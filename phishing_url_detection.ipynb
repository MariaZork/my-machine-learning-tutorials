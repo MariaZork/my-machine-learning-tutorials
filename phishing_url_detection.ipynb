{
 "cells": [
  {
   "cell_type": "markdown",
   "metadata": {
    "id": "tlGV7nsiwwJo"
   },
   "source": [
    "## Kaggle dataset import"
   ]
  },
  {
   "cell_type": "code",
   "execution_count": 1,
   "metadata": {
    "colab": {
     "base_uri": "https://localhost:8080/"
    },
    "id": "90RoowgEu8xN",
    "outputId": "e8c90f10-f1c0-4267-ada9-5a917e189ada"
   },
   "outputs": [
    {
     "name": "stdout",
     "output_type": "stream",
     "text": [
      "Requirement already satisfied: kaggle in /usr/local/lib/python3.7/dist-packages (1.5.12)\n",
      "Requirement already satisfied: python-dateutil in /usr/local/lib/python3.7/dist-packages (from kaggle) (2.8.1)\n",
      "Requirement already satisfied: urllib3 in /usr/local/lib/python3.7/dist-packages (from kaggle) (1.24.3)\n",
      "Requirement already satisfied: requests in /usr/local/lib/python3.7/dist-packages (from kaggle) (2.23.0)\n",
      "Requirement already satisfied: six>=1.10 in /usr/local/lib/python3.7/dist-packages (from kaggle) (1.15.0)\n",
      "Requirement already satisfied: certifi in /usr/local/lib/python3.7/dist-packages (from kaggle) (2021.5.30)\n",
      "Requirement already satisfied: python-slugify in /usr/local/lib/python3.7/dist-packages (from kaggle) (5.0.2)\n",
      "Requirement already satisfied: tqdm in /usr/local/lib/python3.7/dist-packages (from kaggle) (4.56.0)\n",
      "Requirement already satisfied: text-unidecode>=1.3 in /usr/local/lib/python3.7/dist-packages (from python-slugify->kaggle) (1.3)\n",
      "Requirement already satisfied: idna<3,>=2.5 in /usr/local/lib/python3.7/dist-packages (from requests->kaggle) (2.10)\n",
      "Requirement already satisfied: chardet<4,>=3.0.2 in /usr/local/lib/python3.7/dist-packages (from requests->kaggle) (3.0.4)\n"
     ]
    }
   ],
   "source": [
    "!pip install kaggle"
   ]
  },
  {
   "cell_type": "code",
   "execution_count": null,
   "metadata": {
    "colab": {
     "base_uri": "https://localhost:8080/",
     "height": 89,
     "resources": {
      "http://localhost:8080/nbextensions/google.colab/files.js": {
       "data": "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",
       "headers": [
        [
         "content-type",
         "application/javascript"
        ]
       ],
       "ok": true,
       "status": 200,
       "status_text": ""
      }
     }
    },
    "id": "80qmXWPJvO-m",
    "outputId": "851441dc-cd85-493a-d516-6b53f3da48f5"
   },
   "outputs": [],
   "source": [
    "from google.colab import files\n",
    "files.upload()"
   ]
  },
  {
   "cell_type": "code",
   "execution_count": 2,
   "metadata": {
    "id": "ODavrf8SvdCG"
   },
   "outputs": [],
   "source": [
    "!mkdir -p ~/.kaggle\n",
    "!cp kaggle.json ~/.kaggle/\n",
    "!chmod 600 ~/.kaggle/kaggle.json"
   ]
  },
  {
   "cell_type": "code",
   "execution_count": 3,
   "metadata": {
    "colab": {
     "base_uri": "https://localhost:8080/"
    },
    "id": "h2lXfTiMv8_g",
    "outputId": "eed44023-dafc-4418-c9d4-6b4ff51a03ac"
   },
   "outputs": [
    {
     "name": "stdout",
     "output_type": "stream",
     "text": [
      "Downloading phishing-site-urls.zip to /content\n",
      "  0% 0.00/9.03M [00:00<?, ?B/s]\n",
      "100% 9.03M/9.03M [00:00<00:00, 77.9MB/s]\n"
     ]
    }
   ],
   "source": [
    "!kaggle datasets download -d taruntiwarihp/phishing-site-urls"
   ]
  },
  {
   "cell_type": "code",
   "execution_count": 4,
   "metadata": {
    "id": "edmcQAh4wFJc"
   },
   "outputs": [],
   "source": [
    "import zipfile\n",
    "zip_ref = zipfile.ZipFile('phishing-site-urls.zip', 'r')\n",
    "zip_ref.extractall()\n",
    "zip_ref.close()"
   ]
  },
  {
   "cell_type": "code",
   "execution_count": 140,
   "metadata": {
    "id": "X9LNb0g4xKH9"
   },
   "outputs": [],
   "source": [
    "import re\n",
    "import os\n",
    "import string\n",
    "import random\n",
    "import pickle\n",
    "import warnings\n",
    "import numpy as np\n",
    "import pandas as pd\n",
    "import seaborn as sns\n",
    "import matplotlib.pyplot as plt\n",
    "\n",
    "from scipy.sparse import coo_matrix, hstack\n",
    "from sklearn.model_selection import train_test_split\n",
    "from sklearn.model_selection import StratifiedKFold\n",
    "from sklearn.feature_extraction.text import TfidfVectorizer\n",
    "from sklearn.preprocessing import RobustScaler\n",
    "from sklearn.linear_model import LogisticRegression\n",
    "from sklearn.svm import LinearSVC\n",
    "from sklearn.linear_model import SGDClassifier\n",
    "from sklearn.ensemble import RandomForestClassifier\n",
    "from sklearn.metrics import precision_score, recall_score\n",
    "\n",
    "warnings.filterwarnings('ignore')\n",
    "pd.set_option(\"display.max_colwidth\", 999)\n",
    "\n",
    "SEED = 2021"
   ]
  },
  {
   "cell_type": "code",
   "execution_count": 141,
   "metadata": {
    "id": "XZQ3kE80REEr"
   },
   "outputs": [],
   "source": [
    "def seed_everything(seed=1234):\n",
    "    random.seed(seed)\n",
    "    os.environ['PYTHONHASHSEED'] = str(seed)\n",
    "    np.random.seed(seed)\n",
    "\n",
    "seed_everything(SEED)"
   ]
  },
  {
   "cell_type": "code",
   "execution_count": 142,
   "metadata": {
    "id": "D_6o2jDqwR_u"
   },
   "outputs": [],
   "source": [
    "data = pd.read_csv('/content/phishing_site_urls.csv')"
   ]
  },
  {
   "cell_type": "markdown",
   "metadata": {
    "id": "dcJqUBU520tW"
   },
   "source": [
    "## EDA"
   ]
  },
  {
   "cell_type": "code",
   "execution_count": 143,
   "metadata": {
    "colab": {
     "base_uri": "https://localhost:8080/",
     "height": 238
    },
    "id": "YOH0uk69xNl2",
    "outputId": "7b34bf20-6c16-494d-a8bd-612052844f86"
   },
   "outputs": [
    {
     "data": {
      "text/html": [
       "<div>\n",
       "<style scoped>\n",
       "    .dataframe tbody tr th:only-of-type {\n",
       "        vertical-align: middle;\n",
       "    }\n",
       "\n",
       "    .dataframe tbody tr th {\n",
       "        vertical-align: top;\n",
       "    }\n",
       "\n",
       "    .dataframe thead th {\n",
       "        text-align: right;\n",
       "    }\n",
       "</style>\n",
       "<table border=\"1\" class=\"dataframe\">\n",
       "  <thead>\n",
       "    <tr style=\"text-align: right;\">\n",
       "      <th></th>\n",
       "      <th>URL</th>\n",
       "      <th>Label</th>\n",
       "    </tr>\n",
       "  </thead>\n",
       "  <tbody>\n",
       "    <tr>\n",
       "      <th>0</th>\n",
       "      <td>nobell.it/70ffb52d079109dca5664cce6f317373782/login.SkyPe.com/en/cgi-bin/verification/login/70ffb52d079109dca5664cce6f317373/index.php?cmd=_profile-ach&amp;outdated_page_tmpl=p/gen/failed-to-load&amp;nav=0.5.1&amp;login_access=1322408526</td>\n",
       "      <td>bad</td>\n",
       "    </tr>\n",
       "    <tr>\n",
       "      <th>1</th>\n",
       "      <td>www.dghjdgf.com/paypal.co.uk/cycgi-bin/webscrcmd=_home-customer&amp;nav=1/loading.php</td>\n",
       "      <td>bad</td>\n",
       "    </tr>\n",
       "    <tr>\n",
       "      <th>2</th>\n",
       "      <td>serviciosbys.com/paypal.cgi.bin.get-into.herf.secure.dispatch35463256rzr321654641dsf654321874/href/href/href/secure/center/update/limit/seccure/4d7a1ff5c55825a2e632a679c2fd5353/</td>\n",
       "      <td>bad</td>\n",
       "    </tr>\n",
       "    <tr>\n",
       "      <th>3</th>\n",
       "      <td>mail.printakid.com/www.online.americanexpress.com/index.html</td>\n",
       "      <td>bad</td>\n",
       "    </tr>\n",
       "    <tr>\n",
       "      <th>4</th>\n",
       "      <td>thewhiskeydregs.com/wp-content/themes/widescreen/includes/temp/promocoessmiles/?84784787824HDJNDJDSJSHD//2724782784/</td>\n",
       "      <td>bad</td>\n",
       "    </tr>\n",
       "  </tbody>\n",
       "</table>\n",
       "</div>"
      ],
      "text/plain": [
       "                                                                                                                                                                                                                                 URL Label\n",
       "0  nobell.it/70ffb52d079109dca5664cce6f317373782/login.SkyPe.com/en/cgi-bin/verification/login/70ffb52d079109dca5664cce6f317373/index.php?cmd=_profile-ach&outdated_page_tmpl=p/gen/failed-to-load&nav=0.5.1&login_access=1322408526   bad\n",
       "1                                                                                                                                                  www.dghjdgf.com/paypal.co.uk/cycgi-bin/webscrcmd=_home-customer&nav=1/loading.php   bad\n",
       "2                                                  serviciosbys.com/paypal.cgi.bin.get-into.herf.secure.dispatch35463256rzr321654641dsf654321874/href/href/href/secure/center/update/limit/seccure/4d7a1ff5c55825a2e632a679c2fd5353/   bad\n",
       "3                                                                                                                                                                       mail.printakid.com/www.online.americanexpress.com/index.html   bad\n",
       "4                                                                                                               thewhiskeydregs.com/wp-content/themes/widescreen/includes/temp/promocoessmiles/?84784787824HDJNDJDSJSHD//2724782784/   bad"
      ]
     },
     "execution_count": 143,
     "metadata": {
      "tags": []
     },
     "output_type": "execute_result"
    }
   ],
   "source": [
    "data.head()"
   ]
  },
  {
   "cell_type": "code",
   "execution_count": 144,
   "metadata": {
    "colab": {
     "base_uri": "https://localhost:8080/"
    },
    "id": "3nWUZjpa1_ZJ",
    "outputId": "442c045a-648f-4b50-800c-fe7d7579c107"
   },
   "outputs": [
    {
     "name": "stdout",
     "output_type": "stream",
     "text": [
      "There are 42151 duplicated URLs in the data\n"
     ]
    }
   ],
   "source": [
    "print(f\"There are {data['URL'].duplicated().sum()} duplicated URLs in the data\")\n",
    "\n",
    "data.drop_duplicates(inplace=True)"
   ]
  },
  {
   "cell_type": "code",
   "execution_count": 145,
   "metadata": {
    "colab": {
     "base_uri": "https://localhost:8080/"
    },
    "id": "xOZVAJ-N13ES",
    "outputId": "1163f8ab-7827-46ad-8df6-96f70711217d"
   },
   "outputs": [
    {
     "data": {
      "text/plain": [
       "URL      0\n",
       "Label    0\n",
       "dtype: int64"
      ]
     },
     "execution_count": 145,
     "metadata": {
      "tags": []
     },
     "output_type": "execute_result"
    }
   ],
   "source": [
    "data.isna().sum()"
   ]
  },
  {
   "cell_type": "code",
   "execution_count": 146,
   "metadata": {
    "colab": {
     "base_uri": "https://localhost:8080/"
    },
    "id": "AALbq8LZ2w4e",
    "outputId": "a6c9fa53-f043-445c-914f-9925a80655e9"
   },
   "outputs": [
    {
     "name": "stdout",
     "output_type": "stream",
     "text": [
      "<class 'pandas.core.frame.DataFrame'>\n",
      "Int64Index: 507196 entries, 0 to 516470\n",
      "Data columns (total 2 columns):\n",
      " #   Column  Non-Null Count   Dtype \n",
      "---  ------  --------------   ----- \n",
      " 0   URL     507196 non-null  object\n",
      " 1   Label   507196 non-null  object\n",
      "dtypes: object(2)\n",
      "memory usage: 11.6+ MB\n"
     ]
    }
   ],
   "source": [
    "data.info()"
   ]
  },
  {
   "cell_type": "code",
   "execution_count": 147,
   "metadata": {
    "colab": {
     "base_uri": "https://localhost:8080/",
     "height": 383
    },
    "id": "hYKF3uq0xPM7",
    "outputId": "729edfac-9ca8-4eb7-bdf5-ddab96b54f75"
   },
   "outputs": [
    {
     "data": {
      "image/png": "[encoded data removed]",
      "text/plain": [
       "<Figure size 360x360 with 1 Axes>"
      ]
     },
     "metadata": {
      "needs_background": "light",
      "tags": []
     },
     "output_type": "display_data"
    }
   ],
   "source": [
    "ax = sns.catplot(\"Label\",\n",
    "                data=data,\n",
    "                kind=\"count\", \n",
    "                palette='tab20');"
   ]
  },
  {
   "cell_type": "markdown",
   "metadata": {
    "id": "LaHoccjH28SI"
   },
   "source": [
    "## Feature engineering/Data preprocessing"
   ]
  },
  {
   "cell_type": "code",
   "execution_count": 148,
   "metadata": {
    "colab": {
     "base_uri": "https://localhost:8080/"
    },
    "id": "kxXHeh8D7U7l",
    "outputId": "46727f7c-9a7d-4c38-a219-6c72ddb405dd"
   },
   "outputs": [
    {
     "name": "stdout",
     "output_type": "stream",
     "text": [
      "nobell.it/70ffb52d079109dca5664cce6f317373782/login.SkyPe.com/en/cgi-bin/verification/login/70ffb52d079109dca5664cce6f317373/index.php?cmd=_profile-ach&outdated_page_tmpl=p/gen/failed-to-load&nav=0.5.1&login_access=1322408526\n",
      "{'schema': None, 'user': None, 'password': None, 'host': 'nobell.it', 'port': None, 'path': '/70ffb52d079109dca5664cce6f317373782/login.SkyPe.com/en/cgi-bin/verification/login/70ffb52d079109dca5664cce6f317373/index.php', 'query': '?cmd=_profile-ach&outdated_page_tmpl=p/gen/failed-to-load&nav=0.5.1&login_access=1322408526'}\n"
     ]
    }
   ],
   "source": [
    "def url_path_to_dict(path):\n",
    "    pattern = (r'^'\n",
    "               r'((?P<schema>.+?)://)?'\n",
    "               r'((?P<user>.+?)(:(?P<password>.*?))?@)?'\n",
    "               r'(?P<host>.*?)'\n",
    "               r'(:(?P<port>\\d+?))?'\n",
    "               r'(?P<path>/.*?)?'\n",
    "               r'(?P<query>[?].*?)?'\n",
    "               r'$'\n",
    "               )\n",
    "    regex = re.compile(pattern)\n",
    "    m = regex.match(path)\n",
    "    d = m.groupdict() if m is not None else None\n",
    "    return d\n",
    "\n",
    "\n",
    "url = data['URL'].iloc[0]\n",
    "print(url)\n",
    "print(url_path_to_dict(url))"
   ]
  },
  {
   "cell_type": "code",
   "execution_count": 149,
   "metadata": {
    "id": "4lwKwyWJ5PJt"
   },
   "outputs": [],
   "source": [
    "VOWELS = set(\"aeiou\")\n",
    "CONSONANTS = set(string.ascii_lowercase) - set(\"aeiou\")\n",
    "\n",
    "def url_length(s: str):\n",
    "    return len(s)\n",
    "\n",
    "def hostname_length(d: dict):\n",
    "    if not d:\n",
    "        return 0\n",
    "\n",
    "    if not d['host']:\n",
    "        return 0\n",
    "    else:\n",
    "        return len(d['host'])\n",
    "\n",
    "def path_length(d: dict):\n",
    "    if not d:\n",
    "        return 0\n",
    "\n",
    "    if not d['path']:\n",
    "        return 0\n",
    "    else:\n",
    "        return len(d['path'])\n",
    "\n",
    "def query_length(d: dict):\n",
    "    if not d:\n",
    "        return 0\n",
    "\n",
    "    if not d['query']:\n",
    "        return 0\n",
    "    else:\n",
    "        return len(d['query'])\n",
    "\n",
    "def is_ip(d:dict):\n",
    "    if not d:\n",
    "        return False\n",
    "\n",
    "    res_s = re.sub(r'[/.]', '', d['host'])\n",
    "    return int(res_s.isnumeric())\n",
    "\n",
    "def contains_port(d:dict):\n",
    "    if not d:\n",
    "        return False\n",
    "\n",
    "    if d['port']:\n",
    "        return 1\n",
    "    else:\n",
    "        return 0\n",
    "\n",
    "def contains_username(d:dict):\n",
    "    if not d:\n",
    "        return False\n",
    "\n",
    "    if d['user']:\n",
    "        return 1\n",
    "    else:\n",
    "        return 0\n",
    "\n",
    "def vowels_pct(s):\n",
    "    count = 0\n",
    "    s = s.lower()\n",
    "\n",
    "    for ch in s:\n",
    "        if ch in VOWELS:\n",
    "            count = count + 1\n",
    "\n",
    "    return count/len(s)\n",
    "\n",
    "def consonants_pct(s):\n",
    "    count = 0\n",
    "    s = s.lower()\n",
    "\n",
    "    for ch in s:\n",
    "        if ch in CONSONANTS:\n",
    "            count = count + 1\n",
    "\n",
    "    return count/len(s)\n",
    "\n",
    "def count_dots(s):\n",
    "    return s.count('.')\n",
    "\n",
    "def count_slash(s):\n",
    "    return s.count('/')\n",
    "\n",
    "def count_digits(s):\n",
    "    return len(re.sub(r\"\\D\", \"\", s))\n",
    "\n",
    "def count_punctuation(s):\n",
    "    return len(re.sub(r\"[^\" + string.punctuation + \"]+\", \"\", s))\n",
    "\n",
    "def extract_doc(s):\n",
    "    return \" \".join(re.split(\"[\" + string.punctuation + \"]+\", s))"
   ]
  },
  {
   "cell_type": "code",
   "execution_count": 150,
   "metadata": {
    "colab": {
     "base_uri": "https://localhost:8080/"
    },
    "id": "CmDjBRd35ab_",
    "outputId": "9bade1b7-63d6-40fb-fe8c-efa0c48be5e7"
   },
   "outputs": [
    {
     "name": "stdout",
     "output_type": "stream",
     "text": [
      "CPU times: user 22.2 s, sys: 142 ms, total: 22.3 s\n",
      "Wall time: 22.3 s\n"
     ]
    }
   ],
   "source": [
    "%%time\n",
    "\n",
    "data['url_info'] = data['URL'].apply(lambda x: url_path_to_dict(x))\n",
    "data['doc'] = data['URL'].apply(lambda x: extract_doc(x))\n",
    "\n",
    "data['vowels_pct'] = data['URL'].apply(lambda x: vowels_pct(x))\n",
    "data['consonants_pct'] = data['URL'].apply(lambda x: consonants_pct(x))\n",
    "data['is_ip'] = data['url_info'].apply(lambda x: is_ip(x))\n",
    "data['contains_port'] = data['url_info'].apply(lambda x: contains_port(x))\n",
    "data['contains_username'] = data['url_info'].apply(lambda x: contains_username(x))\n",
    "\n",
    "# need to be normalized\n",
    "data['url_length'] = data['URL'].apply(lambda x: url_length(x))\n",
    "data['dots_num'] = data['URL'].apply(lambda x: count_dots(x))\n",
    "data['slash_num'] = data['URL'].apply(lambda x: count_slash(x))\n",
    "data['digits_num'] = data['URL'].apply(lambda x: count_digits(x))\n",
    "data['punct_num'] = data['URL'].apply(lambda x: count_punctuation(x))\n",
    "data['host_length'] = data['url_info'].apply(lambda x: hostname_length(x))\n",
    "data['path_length'] = data['url_info'].apply(lambda x: path_length(x))\n",
    "data['query_length'] = data['url_info'].apply(lambda x: query_length(x))"
   ]
  },
  {
   "cell_type": "code",
   "execution_count": 151,
   "metadata": {
    "colab": {
     "base_uri": "https://localhost:8080/",
     "height": 462
    },
    "id": "mmp90d-CW6t9",
    "outputId": "c902c255-8a2d-468f-d3f6-b5bd39a0fa75"
   },
   "outputs": [
    {
     "data": {
      "text/html": [
       "<div>\n",
       "<style scoped>\n",
       "    .dataframe tbody tr th:only-of-type {\n",
       "        vertical-align: middle;\n",
       "    }\n",
       "\n",
       "    .dataframe tbody tr th {\n",
       "        vertical-align: top;\n",
       "    }\n",
       "\n",
       "    .dataframe thead th {\n",
       "        text-align: right;\n",
       "    }\n",
       "</style>\n",
       "<table border=\"1\" class=\"dataframe\">\n",
       "  <thead>\n",
       "    <tr style=\"text-align: right;\">\n",
       "      <th></th>\n",
       "      <th>URL</th>\n",
       "      <th>Label</th>\n",
       "      <th>url_info</th>\n",
       "      <th>doc</th>\n",
       "      <th>vowels_pct</th>\n",
       "      <th>consonants_pct</th>\n",
       "      <th>is_ip</th>\n",
       "      <th>contains_port</th>\n",
       "      <th>contains_username</th>\n",
       "      <th>url_length</th>\n",
       "      <th>dots_num</th>\n",
       "      <th>slash_num</th>\n",
       "      <th>digits_num</th>\n",
       "      <th>punct_num</th>\n",
       "      <th>host_length</th>\n",
       "      <th>path_length</th>\n",
       "      <th>query_length</th>\n",
       "    </tr>\n",
       "  </thead>\n",
       "  <tbody>\n",
       "    <tr>\n",
       "      <th>0</th>\n",
       "      <td>nobell.it/70ffb52d079109dca5664cce6f317373782/login.SkyPe.com/en/cgi-bin/verification/login/70ffb52d079109dca5664cce6f317373/index.php?cmd=_profile-ach&amp;outdated_page_tmpl=p/gen/failed-to-load&amp;nav=0.5.1&amp;login_access=1322408526</td>\n",
       "      <td>bad</td>\n",
       "      <td>{'schema': None, 'user': None, 'password': None, 'host': 'nobell.it', 'port': None, 'path': '/70ffb52d079109dca5664cce6f317373782/login.SkyPe.com/en/cgi-bin/verification/login/70ffb52d079109dca5664cce6f317373/index.php', 'query': '?cmd=_profile-ach&amp;outdated_page_tmpl=p/gen/failed-to-load&amp;nav=0.5.1&amp;login_access=1322408526'}</td>\n",
       "      <td>nobell it 70ffb52d079109dca5664cce6f317373782 login SkyPe com en cgi bin verification login 70ffb52d079109dca5664cce6f317373 index php cmd profile ach outdated page tmpl p gen failed to load nav 0 5 1 login access 1322408526</td>\n",
       "      <td>0.204444</td>\n",
       "      <td>0.395556</td>\n",
       "      <td>0</td>\n",
       "      <td>0</td>\n",
       "      <td>0</td>\n",
       "      <td>225</td>\n",
       "      <td>6</td>\n",
       "      <td>10</td>\n",
       "      <td>58</td>\n",
       "      <td>32</td>\n",
       "      <td>9</td>\n",
       "      <td>125</td>\n",
       "      <td>91</td>\n",
       "    </tr>\n",
       "    <tr>\n",
       "      <th>1</th>\n",
       "      <td>www.dghjdgf.com/paypal.co.uk/cycgi-bin/webscrcmd=_home-customer&amp;nav=1/loading.php</td>\n",
       "      <td>bad</td>\n",
       "      <td>{'schema': None, 'user': None, 'password': None, 'host': 'www.dghjdgf.com', 'port': None, 'path': '/paypal.co.uk/cycgi-bin/webscrcmd=_home-customer&amp;nav=1/loading.php', 'query': None}</td>\n",
       "      <td>www dghjdgf com paypal co uk cycgi bin webscrcmd home customer nav 1 loading php</td>\n",
       "      <td>0.209877</td>\n",
       "      <td>0.592593</td>\n",
       "      <td>0</td>\n",
       "      <td>0</td>\n",
       "      <td>0</td>\n",
       "      <td>81</td>\n",
       "      <td>5</td>\n",
       "      <td>4</td>\n",
       "      <td>1</td>\n",
       "      <td>15</td>\n",
       "      <td>15</td>\n",
       "      <td>66</td>\n",
       "      <td>0</td>\n",
       "    </tr>\n",
       "    <tr>\n",
       "      <th>2</th>\n",
       "      <td>serviciosbys.com/paypal.cgi.bin.get-into.herf.secure.dispatch35463256rzr321654641dsf654321874/href/href/href/secure/center/update/limit/seccure/4d7a1ff5c55825a2e632a679c2fd5353/</td>\n",
       "      <td>bad</td>\n",
       "      <td>{'schema': None, 'user': None, 'password': None, 'host': 'serviciosbys.com', 'port': None, 'path': '/paypal.cgi.bin.get-into.herf.secure.dispatch35463256rzr321654641dsf654321874/href/href/href/secure/center/update/limit/seccure/4d7a1ff5c55825a2e632a679c2fd5353/', 'query': None}</td>\n",
       "      <td>serviciosbys com paypal cgi bin get into herf secure dispatch35463256rzr321654641dsf654321874 href href href secure center update limit seccure 4d7a1ff5c55825a2e632a679c2fd5353</td>\n",
       "      <td>0.214689</td>\n",
       "      <td>0.412429</td>\n",
       "      <td>0</td>\n",
       "      <td>0</td>\n",
       "      <td>0</td>\n",
       "      <td>177</td>\n",
       "      <td>7</td>\n",
       "      <td>11</td>\n",
       "      <td>47</td>\n",
       "      <td>19</td>\n",
       "      <td>16</td>\n",
       "      <td>161</td>\n",
       "      <td>0</td>\n",
       "    </tr>\n",
       "    <tr>\n",
       "      <th>3</th>\n",
       "      <td>mail.printakid.com/www.online.americanexpress.com/index.html</td>\n",
       "      <td>bad</td>\n",
       "      <td>{'schema': None, 'user': None, 'password': None, 'host': 'mail.printakid.com', 'port': None, 'path': '/www.online.americanexpress.com/index.html', 'query': None}</td>\n",
       "      <td>mail printakid com www online americanexpress com index html</td>\n",
       "      <td>0.300000</td>\n",
       "      <td>0.566667</td>\n",
       "      <td>0</td>\n",
       "      <td>0</td>\n",
       "      <td>0</td>\n",
       "      <td>60</td>\n",
       "      <td>6</td>\n",
       "      <td>2</td>\n",
       "      <td>0</td>\n",
       "      <td>8</td>\n",
       "      <td>18</td>\n",
       "      <td>42</td>\n",
       "      <td>0</td>\n",
       "    </tr>\n",
       "    <tr>\n",
       "      <th>4</th>\n",
       "      <td>thewhiskeydregs.com/wp-content/themes/widescreen/includes/temp/promocoessmiles/?84784787824HDJNDJDSJSHD//2724782784/</td>\n",
       "      <td>bad</td>\n",
       "      <td>{'schema': None, 'user': None, 'password': None, 'host': 'thewhiskeydregs.com', 'port': None, 'path': '/wp-content/themes/widescreen/includes/temp/promocoessmiles/', 'query': '?84784787824HDJNDJDSJSHD//2724782784/'}</td>\n",
       "      <td>thewhiskeydregs com wp content themes widescreen includes temp promocoessmiles 84784787824HDJNDJDSJSHD 2724782784</td>\n",
       "      <td>0.198276</td>\n",
       "      <td>0.508621</td>\n",
       "      <td>0</td>\n",
       "      <td>0</td>\n",
       "      <td>0</td>\n",
       "      <td>116</td>\n",
       "      <td>1</td>\n",
       "      <td>10</td>\n",
       "      <td>21</td>\n",
       "      <td>13</td>\n",
       "      <td>19</td>\n",
       "      <td>60</td>\n",
       "      <td>37</td>\n",
       "    </tr>\n",
       "  </tbody>\n",
       "</table>\n",
       "</div>"
      ],
      "text/plain": [
       "                                                                                                                                                                                                                                 URL  ... query_length\n",
       "0  nobell.it/70ffb52d079109dca5664cce6f317373782/login.SkyPe.com/en/cgi-bin/verification/login/70ffb52d079109dca5664cce6f317373/index.php?cmd=_profile-ach&outdated_page_tmpl=p/gen/failed-to-load&nav=0.5.1&login_access=1322408526  ...           91\n",
       "1                                                                                                                                                  www.dghjdgf.com/paypal.co.uk/cycgi-bin/webscrcmd=_home-customer&nav=1/loading.php  ...            0\n",
       "2                                                  serviciosbys.com/paypal.cgi.bin.get-into.herf.secure.dispatch35463256rzr321654641dsf654321874/href/href/href/secure/center/update/limit/seccure/4d7a1ff5c55825a2e632a679c2fd5353/  ...            0\n",
       "3                                                                                                                                                                       mail.printakid.com/www.online.americanexpress.com/index.html  ...            0\n",
       "4                                                                                                               thewhiskeydregs.com/wp-content/themes/widescreen/includes/temp/promocoessmiles/?84784787824HDJNDJDSJSHD//2724782784/  ...           37\n",
       "\n",
       "[5 rows x 17 columns]"
      ]
     },
     "execution_count": 151,
     "metadata": {
      "tags": []
     },
     "output_type": "execute_result"
    }
   ],
   "source": [
    "data.head()"
   ]
  },
  {
   "cell_type": "code",
   "execution_count": 152,
   "metadata": {
    "id": "K7tiXNCr_kr4"
   },
   "outputs": [],
   "source": [
    "data['Label'] = data.Label.apply(lambda x: 0 if x=='bad' else 1)"
   ]
  },
  {
   "cell_type": "code",
   "execution_count": 153,
   "metadata": {
    "id": "PII7-kqNP52q"
   },
   "outputs": [],
   "source": [
    "folds = StratifiedKFold(n_splits=5, shuffle=True, random_state=SEED)\n",
    "\n",
    "X = data.iloc[:, 3:]\n",
    "y = data.Label.values"
   ]
  },
  {
   "cell_type": "code",
   "execution_count": 154,
   "metadata": {
    "id": "zhV1kcWixmjd"
   },
   "outputs": [],
   "source": [
    "tf_idf_vec = TfidfVectorizer(encoding='utf-8', \n",
    "                             stop_words='english', \n",
    "                             ngram_range=(1, 3), \n",
    "                             max_df=0.8, min_df=1000)\n",
    "\n",
    "sc = RobustScaler(with_centering=True, with_scaling=True, quantile_range=(25.0, 75.0), copy=True)"
   ]
  },
  {
   "cell_type": "code",
   "execution_count": 155,
   "metadata": {
    "id": "49136N8zCayG"
   },
   "outputs": [],
   "source": [
    "NOT_SCALE_COLUMNS = [\"vowels_pct\",\t\"consonants_pct\",\t\"is_ip\",\t\"contains_port\",\t\"contains_username\"]\n",
    "TO_SCALE_COLUMNS = [\"url_length\",\t\"dots_num\",\t\"slash_num\",\t\"digits_num\",\t\"punct_num\",\t\"host_length\",\t\"path_length\",\t\"query_length\"]\n",
    "\n",
    "GOOD_SAMPLES = ['youtube.com/',\n",
    "                'youtube.com/watch?v=qI0TQJI3vdU',\n",
    "                'bestbuy.com/',\n",
    "                'restorevisioncenters.com/html/technology.html',\n",
    "                'mariazork.github.io/CodingProblems']\n",
    "\n",
    "BAD_SAMPLES = ['http://shadetreetechnology.com/V4/validation/a111aedc8ae390eabcfa130e041a10a4', \n",
    "               'yeniik.com.tr/wp-admin/js/login.alibaba.com/login.jsp.php',\n",
    "               'fazan-pacir.rs/temp/libraries/ipad',\n",
    "               'tubemoviez.exe',\n",
    "               'svision-online.de/mgfi/administrator/components/com_babackup/classes/fx29id1.txt']"
   ]
  },
  {
   "cell_type": "code",
   "execution_count": 156,
   "metadata": {
    "id": "S3UZ2gcObOCz"
   },
   "outputs": [],
   "source": [
    "def preprocess(Xtrain, Xval, vectorizer, scaler, fold_index):\n",
    "    Xtrain_vect = vectorizer.fit_transform(Xtrain.doc.values)\n",
    "    Xtrain_num = scaler.fit_transform(Xtrain.loc[:, TO_SCALE_COLUMNS].values)\n",
    "    Xtrain_num = coo_matrix(Xtrain_num)\n",
    "    Xtrain_num_add = coo_matrix(Xtrain.loc[:, NOT_SCALE_COLUMNS].values).astype('float32')\n",
    "    Xtrain_res = hstack([Xtrain_vect, Xtrain_num_add, Xtrain_num])\n",
    "    Xtrain_res = Xtrain_res.astype('float32')\n",
    "\n",
    "    Xval_vect = vectorizer.transform(Xval.doc.values)    \n",
    "    Xval_num = scaler.transform(Xval.loc[:, TO_SCALE_COLUMNS].values)\n",
    "    Xval_num = coo_matrix(Xval_num)\n",
    "    Xval_num_add = coo_matrix(Xval.loc[:, NOT_SCALE_COLUMNS].values).astype('float32')\n",
    "    Xval_res = hstack([Xval_vect, Xval_num_add, Xval_num])\n",
    "    Xval_res = Xval_res.astype('float32')\n",
    "\n",
    "    pickle.dump(vectorizer, open(f\"tf_idf_{fold_index}.pkl\", \"wb\"))\n",
    "    pickle.dump(scaler, open(f\"scaler_{fold_index}.pkl\", \"wb\"))\n",
    "\n",
    "    return Xtrain_res, Xval_res\n",
    "\n",
    "def train(model, X, y, vectorizer, scaler):\n",
    "    precision_scores, recall_scores = [], []\n",
    "\n",
    "    for fold_idx, (train_index, val_index) in enumerate(folds.split(X, y)):\n",
    "        X_train, X_val = X.iloc[train_index, :], X.iloc[val_index, :]\n",
    "        y_train, y_val = y[train_index], y[val_index]\n",
    "\n",
    "        X_train_, X_val_ = preprocess(X_train, X_val, vectorizer, scaler, fold_idx)\n",
    "\n",
    "        model.fit(X_train_, y_train)\n",
    "\n",
    "        y_hat = model.predict(X_val_)\n",
    "        \n",
    "        precision_scores.append(precision_score(y_val, y_hat))\n",
    "        recall_scores.append(recall_score(y_val, y_hat))\n",
    "\n",
    "        pickle.dump(model, open(f\"model_{fold_idx}.pkl\", \"wb\"))\n",
    "\n",
    "    return precision_scores, recall_scores\n",
    "\n",
    "def infer(sample: np.array,\n",
    "          model_filename: str,\n",
    "          vectorizer_filename: str,\n",
    "          scaler_filename: str):\n",
    "    model = pickle.load(open(model_filename, \"rb\"))\n",
    "    tf_idf_vec = pickle.load(open(vectorizer_filename, \"rb\"))\n",
    "    sc = pickle.load(open(scaler_filename, \"rb\"))\n",
    "\n",
    "    feature_vec = np.array([])\n",
    "\n",
    "    url_info = url_path_to_dict(sample)\n",
    "    doc = extract_doc(sample)\n",
    "\n",
    "    feature_vec = np.append(feature_vec, tf_idf_vec.transform(np.array([doc])).toarray())\n",
    "\n",
    "    feature_vec = np.append(feature_vec, vowels_pct(sample))\n",
    "    feature_vec = np.append(feature_vec, consonants_pct(sample))\n",
    "    feature_vec = np.append(feature_vec, is_ip(url_info))\n",
    "    feature_vec = np.append(feature_vec, contains_port(url_info))\n",
    "    feature_vec = np.append(feature_vec, contains_username(url_info))\n",
    "\n",
    "    feature_vec = np.append(feature_vec, \n",
    "                            sc.transform(np.array([[url_length(sample), \n",
    "                                          count_dots(sample), \n",
    "                                          count_slash(sample), \n",
    "                                          count_digits(sample), \n",
    "                                          count_punctuation(sample), \n",
    "                                          hostname_length(url_info), \n",
    "                                          path_length(url_info), \n",
    "                                          query_length(url_info)]])))\n",
    "\n",
    "    y_hat = model.predict(feature_vec.reshape(1, -1))\n",
    "\n",
    "    return y_hat"
   ]
  },
  {
   "cell_type": "markdown",
   "metadata": {
    "id": "e-uqdffLsnsH"
   },
   "source": [
    "## Logistic regression"
   ]
  },
  {
   "cell_type": "code",
   "execution_count": 157,
   "metadata": {
    "colab": {
     "base_uri": "https://localhost:8080/"
    },
    "id": "VXi7TwHysqrc",
    "outputId": "dd9ed9b5-708b-4bed-930f-9719366237ed"
   },
   "outputs": [
    {
     "name": "stdout",
     "output_type": "stream",
     "text": [
      "==Logistic regression results==\n",
      "Precision scores:\n",
      " 0.93784306550264\n",
      "0.9394603245398854\n",
      "0.9352301342125074\n",
      "0.9387226358556979\n",
      "0.9379541570453863\n",
      "====================\n",
      "Recall scores:\n",
      " 0.91320946805803\n",
      "0.911388538922613\n",
      "0.9169370951526489\n",
      "0.9129665686761094\n",
      "0.9149529142275388\n",
      "====================\n",
      "Mean recall over folds 0.913890917007388\n",
      "Std of recall over folds 0.0018967196933418495\n",
      "Mean precision over folds 0.9378420634312233\n",
      "Std of precision over folds 0.0014303088503269622\n"
     ]
    }
   ],
   "source": [
    "lr = LogisticRegression(penalty='l2', \n",
    "                        tol=0.0001, \n",
    "                        C=0.01, \n",
    "                        class_weight='balanced', \n",
    "                        random_state=SEED, \n",
    "                        solver='lbfgs', \n",
    "                        max_iter=100,\n",
    "                        n_jobs=-1)\n",
    "\n",
    "precision_scores, recall_scores = train(lr, X, y, tf_idf_vec, sc)\n",
    "print(\"==Logistic regression results==\")\n",
    "print(\"Precision scores:\\n\", \"\\n\".join(map(str, precision_scores)))\n",
    "print(\"=\"*20)\n",
    "print(\"Recall scores:\\n\", \"\\n\".join(map(str, recall_scores)))\n",
    "print(\"=\"*20)\n",
    "print(\"Mean recall over folds\", np.mean(recall_scores))\n",
    "print(\"Std of recall over folds\", np.std(recall_scores))\n",
    "\n",
    "print(\"Mean precision over folds\", np.mean(precision_scores))\n",
    "print(\"Std of precision over folds\", np.std(precision_scores))"
   ]
  },
  {
   "cell_type": "code",
   "execution_count": 158,
   "metadata": {
    "colab": {
     "base_uri": "https://localhost:8080/"
    },
    "id": "ASn9QSlv8932",
    "outputId": "4b33df7a-76c8-485a-f7f3-d95618f300e1"
   },
   "outputs": [
    {
     "name": "stdout",
     "output_type": "stream",
     "text": [
      "[array([1]), array([1]), array([1]), array([1]), array([1])]\n"
     ]
    }
   ],
   "source": [
    "answers = []\n",
    "\n",
    "for sample in GOOD_SAMPLES:\n",
    "    answers.append(infer(sample, \"model_0.pkl\", \"tf_idf_0.pkl\", \"scaler_0.pkl\"))\n",
    "\n",
    "print(answers)"
   ]
  },
  {
   "cell_type": "code",
   "execution_count": 159,
   "metadata": {
    "colab": {
     "base_uri": "https://localhost:8080/"
    },
    "id": "5IB7xuNXAy0l",
    "outputId": "e1025019-401f-450d-b71d-70ee06918d54"
   },
   "outputs": [
    {
     "name": "stdout",
     "output_type": "stream",
     "text": [
      "[array([0]), array([0]), array([1]), array([0]), array([0])]\n"
     ]
    }
   ],
   "source": [
    "answers = []\n",
    "\n",
    "for sample in BAD_SAMPLES:\n",
    "    answers.append(infer(sample, \"model_0.pkl\", \"tf_idf_0.pkl\", \"scaler_0.pkl\"))\n",
    "\n",
    "print(answers)"
   ]
  },
  {
   "cell_type": "markdown",
   "metadata": {
    "id": "4LKbhwnPA8gq"
   },
   "source": [
    "# SGD Classifier"
   ]
  },
  {
   "cell_type": "code",
   "execution_count": 160,
   "metadata": {
    "colab": {
     "base_uri": "https://localhost:8080/"
    },
    "id": "A6Sl099aA7nE",
    "outputId": "26b6936f-92ea-4834-89e0-ddbe0c4b1253"
   },
   "outputs": [
    {
     "name": "stdout",
     "output_type": "stream",
     "text": [
      "==SGD classifier results==\n",
      "Precision scores:\n",
      " 0.9341991999594916\n",
      "0.9406067274844224\n",
      "0.9423525535420099\n",
      "0.9426472102120651\n",
      "0.9424178044925772\n",
      "====================\n",
      "Recall scores:\n",
      " 0.9391448205650292\n",
      "0.9355553010346276\n",
      "0.9099250435867089\n",
      "0.9322465289708446\n",
      "0.9257953677780606\n",
      "====================\n",
      "Mean recall over folds 0.9285334123870541\n",
      "Std of recall over folds 0.010290426775929541\n",
      "Mean precision over folds 0.9404446991381132\n",
      "Std of precision over folds 0.003206762272833252\n"
     ]
    }
   ],
   "source": [
    "sgd = SGDClassifier(random_state=SEED, \n",
    "                    class_weight='balanced',\n",
    "                    n_jobs=-1)\n",
    "\n",
    "precision_scores, recall_scores = train(sgd, X, y, tf_idf_vec, sc)\n",
    "print(\"==SGD classifier results==\")\n",
    "print(\"Precision scores:\\n\", \"\\n\".join(map(str, precision_scores)))\n",
    "print(\"=\"*20)\n",
    "print(\"Recall scores:\\n\", \"\\n\".join(map(str, recall_scores)))\n",
    "print(\"=\"*20)\n",
    "print(\"Mean recall over folds\", np.mean(recall_scores))\n",
    "print(\"Std of recall over folds\", np.std(recall_scores))\n",
    "\n",
    "print(\"Mean precision over folds\", np.mean(precision_scores))\n",
    "print(\"Std of precision over folds\", np.std(precision_scores))"
   ]
  },
  {
   "cell_type": "code",
   "execution_count": 161,
   "metadata": {
    "colab": {
     "base_uri": "https://localhost:8080/"
    },
    "id": "v0X-IMDdBf2i",
    "outputId": "e575843b-4c29-4899-cb78-7603ba69197e"
   },
   "outputs": [
    {
     "name": "stdout",
     "output_type": "stream",
     "text": [
      "[array([1]), array([1]), array([1]), array([1]), array([0])]\n"
     ]
    }
   ],
   "source": [
    "answers = []\n",
    "\n",
    "for sample in GOOD_SAMPLES:\n",
    "    answers.append(infer(sample, \"model_0.pkl\", \"tf_idf_0.pkl\", \"scaler_0.pkl\"))\n",
    "\n",
    "print(answers)"
   ]
  },
  {
   "cell_type": "code",
   "execution_count": 162,
   "metadata": {
    "colab": {
     "base_uri": "https://localhost:8080/"
    },
    "id": "_HERRQ8DBmp_",
    "outputId": "d7dfa3f0-27e5-43c7-854d-e8e8d3b24c0d"
   },
   "outputs": [
    {
     "name": "stdout",
     "output_type": "stream",
     "text": [
      "[array([0]), array([0]), array([0]), array([0]), array([0])]\n"
     ]
    }
   ],
   "source": [
    "answers = []\n",
    "\n",
    "for sample in BAD_SAMPLES:\n",
    "    answers.append(infer(sample, \"model_0.pkl\", \"tf_idf_0.pkl\", \"scaler_0.pkl\"))\n",
    "\n",
    "print(answers)"
   ]
  },
  {
   "cell_type": "markdown",
   "metadata": {
    "id": "vI994K-GBsfS"
   },
   "source": [
    "# Random forest"
   ]
  },
  {
   "cell_type": "code",
   "execution_count": 163,
   "metadata": {
    "colab": {
     "base_uri": "https://localhost:8080/"
    },
    "id": "CwZ2yfyEBysZ",
    "outputId": "e9578fcc-8ef6-49d7-f494-7460315db777"
   },
   "outputs": [
    {
     "name": "stdout",
     "output_type": "stream",
     "text": [
      "==Random forest results==\n",
      "Precision scores:\n",
      " 0.9654844323146838\n",
      "0.9651363306925249\n",
      "0.9635700820234959\n",
      "0.9653545868575146\n",
      "0.9646089608960896\n",
      "====================\n",
      "Recall scores:\n",
      " 0.981420208704505\n",
      "0.9829089196859212\n",
      "0.9822089871339671\n",
      "0.9818781099275888\n",
      "0.9819419699669127\n",
      "====================\n",
      "Mean recall over folds 0.9820716390837789\n",
      "Std of recall over folds 0.000489598293873607\n",
      "Mean precision over folds 0.9648308785568618\n",
      "Std of precision over folds 0.0006976473682924858\n"
     ]
    }
   ],
   "source": [
    "rf = RandomForestClassifier(max_depth=100,\n",
    "                            random_state=SEED,\n",
    "                            class_weight='balanced',\n",
    "                            n_jobs=-1)\n",
    "\n",
    "precision_scores, recall_scores = train(rf, X, y, tf_idf_vec, sc)\n",
    "print(\"==Random forest results==\")\n",
    "print(\"Precision scores:\\n\", \"\\n\".join(map(str, precision_scores)))\n",
    "print(\"=\"*20)\n",
    "print(\"Recall scores:\\n\", \"\\n\".join(map(str, recall_scores)))\n",
    "print(\"=\"*20)\n",
    "print(\"Mean recall over folds\", np.mean(recall_scores))\n",
    "print(\"Std of recall over folds\", np.std(recall_scores))\n",
    "\n",
    "print(\"Mean precision over folds\", np.mean(precision_scores))\n",
    "print(\"Std of precision over folds\", np.std(precision_scores))"
   ]
  },
  {
   "cell_type": "code",
   "execution_count": 164,
   "metadata": {
    "colab": {
     "base_uri": "https://localhost:8080/"
    },
    "id": "AkgkuF5nB3Mg",
    "outputId": "92728cb7-67fa-4c52-a02d-1f5f03b2e5ba"
   },
   "outputs": [
    {
     "name": "stdout",
     "output_type": "stream",
     "text": [
      "[array([1]), array([1]), array([1]), array([1]), array([1])]\n"
     ]
    }
   ],
   "source": [
    "answers = []\n",
    "\n",
    "for sample in GOOD_SAMPLES:\n",
    "    answers.append(infer(sample, \"model_0.pkl\", \"tf_idf_0.pkl\", \"scaler_0.pkl\"))\n",
    "\n",
    "print(answers)"
   ]
  },
  {
   "cell_type": "code",
   "execution_count": 165,
   "metadata": {
    "colab": {
     "base_uri": "https://localhost:8080/"
    },
    "id": "KWbve8NIB8Bl",
    "outputId": "f9b598cd-ab92-4861-85fd-d94d4c7a8fb4"
   },
   "outputs": [
    {
     "name": "stdout",
     "output_type": "stream",
     "text": [
      "[array([0]), array([0]), array([0]), array([0]), array([0])]\n"
     ]
    }
   ],
   "source": [
    "answers = []\n",
    "\n",
    "for sample in BAD_SAMPLES:\n",
    "    answers.append(infer(sample, \"model_0.pkl\", \"tf_idf_0.pkl\", \"scaler_0.pkl\"))\n",
    "\n",
    "print(answers)"
   ]
  },
  {
   "cell_type": "markdown",
   "metadata": {
    "id": "h43X8wc8CAnq"
   },
   "source": [
    "# Linear SVM"
   ]
  },
  {
   "cell_type": "code",
   "execution_count": 166,
   "metadata": {
    "colab": {
     "base_uri": "https://localhost:8080/"
    },
    "id": "xfm07rVzB_v_",
    "outputId": "41044333-4d35-46e5-8dea-81befbfd1b99"
   },
   "outputs": [
    {
     "name": "stdout",
     "output_type": "stream",
     "text": [
      "==Logistic regression results==\n",
      "Precision scores:\n",
      " 0.9531297649195847\n",
      "0.9549273129228915\n",
      "0.9496824749858659\n",
      "0.950237309527879\n",
      "0.9489986333052985\n",
      "====================\n",
      "Recall scores:\n",
      " 0.9148129294986002\n",
      "0.9069980529149009\n",
      "0.9192023314117004\n",
      "0.9197877295460619\n",
      "0.918999745482311\n",
      "====================\n",
      "Mean recall over folds 0.9159601577707148\n",
      "Std of recall over folds 0.004817396500707926\n",
      "Mean precision over folds 0.9513950991323039\n",
      "Std of precision over folds 0.0022584156548811265\n"
     ]
    }
   ],
   "source": [
    "linear_svm = LinearSVC(random_state=SEED,\n",
    "                       class_weight='balanced')\n",
    "\n",
    "precision_scores, recall_scores = train(linear_svm, X, y, tf_idf_vec, sc)\n",
    "print(\"==Support Vector Machines results==\")\n",
    "print(\"Precision scores:\\n\", \"\\n\".join(map(str, precision_scores)))\n",
    "print(\"=\"*20)\n",
    "print(\"Recall scores:\\n\", \"\\n\".join(map(str, recall_scores)))\n",
    "print(\"=\"*20)\n",
    "print(\"Mean recall over folds\", np.mean(recall_scores))\n",
    "print(\"Std of recall over folds\", np.std(recall_scores))\n",
    "\n",
    "print(\"Mean precision over folds\", np.mean(precision_scores))\n",
    "print(\"Std of precision over folds\", np.std(precision_scores))"
   ]
  },
  {
   "cell_type": "code",
   "execution_count": 167,
   "metadata": {
    "colab": {
     "base_uri": "https://localhost:8080/"
    },
    "id": "9ofI28r8A63v",
    "outputId": "af626b88-71ee-4dfc-d6d8-227be7295a19"
   },
   "outputs": [
    {
     "name": "stdout",
     "output_type": "stream",
     "text": [
      "[array([1]), array([1]), array([1]), array([1]), array([0])]\n"
     ]
    }
   ],
   "source": [
    "answers = []\n",
    "\n",
    "for sample in GOOD_SAMPLES:\n",
    "    answers.append(infer(sample, \"model_0.pkl\", \"tf_idf_0.pkl\", \"scaler_0.pkl\"))\n",
    "\n",
    "print(answers)"
   ]
  },
  {
   "cell_type": "code",
   "execution_count": 168,
   "metadata": {
    "colab": {
     "base_uri": "https://localhost:8080/"
    },
    "id": "NaIbKTz2BSQp",
    "outputId": "7590432a-ac29-4927-bb0a-adc26b452316"
   },
   "outputs": [
    {
     "name": "stdout",
     "output_type": "stream",
     "text": [
      "[array([0]), array([0]), array([0]), array([0]), array([0])]\n"
     ]
    }
   ],
   "source": [
    "answers = []\n",
    "\n",
    "for sample in BAD_SAMPLES:\n",
    "    answers.append(infer(sample, \"model_0.pkl\", \"tf_idf_0.pkl\", \"scaler_0.pkl\"))\n",
    "\n",
    "print(answers)"
   ]
  },
  {
   "cell_type": "code",
   "execution_count": null,
   "metadata": {
    "id": "Nuvwe9HIJr62"
   },
   "outputs": [],
   "source": []
  }
 ],
 "metadata": {
  "colab": {
   "collapsed_sections": [],
   "name": "phising-url-detection.ipynb",
   "provenance": []
  },
  "kernelspec": {
   "display_name": "Python 3",
   "language": "python",
   "name": "python3"
  },
  "language_info": {
   "codemirror_mode": {
    "name": "ipython",
    "version": 3
   },
   "file_extension": ".py",
   "mimetype": "text/x-python",
   "name": "python",
   "nbconvert_exporter": "python",
   "pygments_lexer": "ipython3",
   "version": "3.6.5"
  }
 },
 "nbformat": 4,
 "nbformat_minor": 1
}
