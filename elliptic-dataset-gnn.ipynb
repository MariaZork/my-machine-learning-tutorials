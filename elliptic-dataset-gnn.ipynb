{
 "cells": [
  {
   "cell_type": "code",
   "execution_count": 1,
   "id": "77a82adc-adfa-460f-aa87-6089b4d1d494",
   "metadata": {},
   "outputs": [],
   "source": [
    "import os\n",
    "import copy\n",
    "import torch\n",
    "import warnings\n",
    "import numpy as np\n",
    "import pandas as pd\n",
    "import networkx as nx\n",
    "import seaborn as sns\n",
    "import matplotlib.pyplot as plt\n",
    "\n",
    "from sklearn.metrics import confusion_matrix, classification_report\n",
    "from sklearn.model_selection import train_test_split\n",
    "\n",
    "from torch_geometric.utils import to_networkx\n",
    "from torch_geometric.data import Data, DataLoader\n",
    "\n",
    "import torch.nn.functional as F\n",
    "from torch.nn import Linear, Dropout\n",
    "from torch_geometric.nn import GCNConv, GATv2Conv\n",
    "\n",
    "warnings.filterwarnings('ignore')"
   ]
  },
  {
   "cell_type": "code",
   "execution_count": null,
   "id": "457a8a47-f59c-4d31-a47b-b2db14840761",
   "metadata": {},
   "outputs": [],
   "source": [
    "# from torch_geometric.datasets import EllipticBitcoinDataset\n",
    "\n",
    "# dataset = EllipticBitcoinDataset(root='./data/elliptic-bitcoin-dataset')"
   ]
  },
  {
   "cell_type": "markdown",
   "id": "8ad9e519-5f77-4ecb-aced-9bd83809a999",
   "metadata": {},
   "source": [
    "## Config"
   ]
  },
  {
   "cell_type": "code",
   "execution_count": 2,
   "id": "aaecec42-7b5a-43d7-852f-3536c2427942",
   "metadata": {},
   "outputs": [
    {
     "name": "stdout",
     "output_type": "stream",
     "text": [
      "Using device: cpu\n"
     ]
    }
   ],
   "source": [
    "class Config:\n",
    "    seed = 0\n",
    "    learning_rate = 0.001\n",
    "    weight_decay = 1e-5\n",
    "    input_dim = 165\n",
    "    output_dim = 1\n",
    "    hidden_size = 128\n",
    "    num_epochs = 100\n",
    "    checkpoints_dir = './models/elliptic_gnn'\n",
    "    device = torch.device('cuda' if torch.cuda.is_available() else 'cpu')\n",
    "    \n",
    "print(\"Using device:\", Config.device)"
   ]
  },
  {
   "cell_type": "markdown",
   "id": "86f9d5db-57dd-48a8-b56f-7711c460a0bf",
   "metadata": {},
   "source": [
    "# Data loading/preparation"
   ]
  },
  {
   "cell_type": "markdown",
   "id": "3d6f81a8-240d-43b2-b5ad-f35e19160087",
   "metadata": {},
   "source": [
    "[Dataset link](https://www.kaggle.com/datasets/ellipticco/elliptic-data-set)"
   ]
  },
  {
   "cell_type": "code",
   "execution_count": 3,
   "id": "e38e83fd-939b-45c8-bbfa-a4146358414c",
   "metadata": {},
   "outputs": [],
   "source": [
    "df_features = pd.read_csv('./data/elliptic_bitcoin_dataset/elliptic_txs_features.csv', header=None)\n",
    "df_edges = pd.read_csv(\"./data/elliptic_bitcoin_dataset/elliptic_txs_edgelist.csv\")\n",
    "df_classes =  pd.read_csv(\"./data/elliptic_bitcoin_dataset/elliptic_txs_classes.csv\")\n",
    "df_classes['class'] = df_classes['class'].map({'unknown': 2, '1': 1, '2': 0})"
   ]
  },
  {
   "cell_type": "code",
   "execution_count": 4,
   "id": "b088b5be-af28-4afe-bc71-23efcbec2f84",
   "metadata": {},
   "outputs": [
    {
     "data": {
      "text/html": [
       "<div>\n",
       "<style scoped>\n",
       "    .dataframe tbody tr th:only-of-type {\n",
       "        vertical-align: middle;\n",
       "    }\n",
       "\n",
       "    .dataframe tbody tr th {\n",
       "        vertical-align: top;\n",
       "    }\n",
       "\n",
       "    .dataframe thead th {\n",
       "        text-align: right;\n",
       "    }\n",
       "</style>\n",
       "<table border=\"1\" class=\"dataframe\">\n",
       "  <thead>\n",
       "    <tr style=\"text-align: right;\">\n",
       "      <th></th>\n",
       "      <th>0</th>\n",
       "      <th>1</th>\n",
       "      <th>2</th>\n",
       "      <th>3</th>\n",
       "      <th>4</th>\n",
       "      <th>5</th>\n",
       "      <th>6</th>\n",
       "      <th>7</th>\n",
       "      <th>8</th>\n",
       "      <th>9</th>\n",
       "      <th>...</th>\n",
       "      <th>157</th>\n",
       "      <th>158</th>\n",
       "      <th>159</th>\n",
       "      <th>160</th>\n",
       "      <th>161</th>\n",
       "      <th>162</th>\n",
       "      <th>163</th>\n",
       "      <th>164</th>\n",
       "      <th>165</th>\n",
       "      <th>166</th>\n",
       "    </tr>\n",
       "  </thead>\n",
       "  <tbody>\n",
       "    <tr>\n",
       "      <th>0</th>\n",
       "      <td>230425980</td>\n",
       "      <td>1</td>\n",
       "      <td>-0.171469</td>\n",
       "      <td>-0.184668</td>\n",
       "      <td>-1.201369</td>\n",
       "      <td>-0.121970</td>\n",
       "      <td>-0.043875</td>\n",
       "      <td>-0.113002</td>\n",
       "      <td>-0.061584</td>\n",
       "      <td>-0.162097</td>\n",
       "      <td>...</td>\n",
       "      <td>-0.562153</td>\n",
       "      <td>-0.600999</td>\n",
       "      <td>1.461330</td>\n",
       "      <td>1.461369</td>\n",
       "      <td>0.018279</td>\n",
       "      <td>-0.087490</td>\n",
       "      <td>-0.131155</td>\n",
       "      <td>-0.097524</td>\n",
       "      <td>-0.120613</td>\n",
       "      <td>-0.119792</td>\n",
       "    </tr>\n",
       "    <tr>\n",
       "      <th>1</th>\n",
       "      <td>5530458</td>\n",
       "      <td>1</td>\n",
       "      <td>-0.171484</td>\n",
       "      <td>-0.184668</td>\n",
       "      <td>-1.201369</td>\n",
       "      <td>-0.121970</td>\n",
       "      <td>-0.043875</td>\n",
       "      <td>-0.113002</td>\n",
       "      <td>-0.061584</td>\n",
       "      <td>-0.162112</td>\n",
       "      <td>...</td>\n",
       "      <td>0.947382</td>\n",
       "      <td>0.673103</td>\n",
       "      <td>-0.979074</td>\n",
       "      <td>-0.978556</td>\n",
       "      <td>0.018279</td>\n",
       "      <td>-0.087490</td>\n",
       "      <td>-0.131155</td>\n",
       "      <td>-0.097524</td>\n",
       "      <td>-0.120613</td>\n",
       "      <td>-0.119792</td>\n",
       "    </tr>\n",
       "    <tr>\n",
       "      <th>2</th>\n",
       "      <td>232022460</td>\n",
       "      <td>1</td>\n",
       "      <td>-0.172107</td>\n",
       "      <td>-0.184668</td>\n",
       "      <td>-1.201369</td>\n",
       "      <td>-0.121970</td>\n",
       "      <td>-0.043875</td>\n",
       "      <td>-0.113002</td>\n",
       "      <td>-0.061584</td>\n",
       "      <td>-0.162749</td>\n",
       "      <td>...</td>\n",
       "      <td>0.670883</td>\n",
       "      <td>0.439728</td>\n",
       "      <td>-0.979074</td>\n",
       "      <td>-0.978556</td>\n",
       "      <td>-0.098889</td>\n",
       "      <td>-0.106715</td>\n",
       "      <td>-0.131155</td>\n",
       "      <td>-0.183671</td>\n",
       "      <td>-0.120613</td>\n",
       "      <td>-0.119792</td>\n",
       "    </tr>\n",
       "    <tr>\n",
       "      <th>3</th>\n",
       "      <td>232438397</td>\n",
       "      <td>1</td>\n",
       "      <td>0.163054</td>\n",
       "      <td>1.963790</td>\n",
       "      <td>-0.646376</td>\n",
       "      <td>12.409294</td>\n",
       "      <td>-0.063725</td>\n",
       "      <td>9.782742</td>\n",
       "      <td>12.414558</td>\n",
       "      <td>-0.163645</td>\n",
       "      <td>...</td>\n",
       "      <td>-0.577099</td>\n",
       "      <td>-0.613614</td>\n",
       "      <td>0.241128</td>\n",
       "      <td>0.241406</td>\n",
       "      <td>1.072793</td>\n",
       "      <td>0.085530</td>\n",
       "      <td>-0.131155</td>\n",
       "      <td>0.677799</td>\n",
       "      <td>-0.120613</td>\n",
       "      <td>-0.119792</td>\n",
       "    </tr>\n",
       "    <tr>\n",
       "      <th>4</th>\n",
       "      <td>230460314</td>\n",
       "      <td>1</td>\n",
       "      <td>1.011523</td>\n",
       "      <td>-0.081127</td>\n",
       "      <td>-1.201369</td>\n",
       "      <td>1.153668</td>\n",
       "      <td>0.333276</td>\n",
       "      <td>1.312656</td>\n",
       "      <td>-0.061584</td>\n",
       "      <td>-0.163523</td>\n",
       "      <td>...</td>\n",
       "      <td>-0.511871</td>\n",
       "      <td>-0.400422</td>\n",
       "      <td>0.517257</td>\n",
       "      <td>0.579382</td>\n",
       "      <td>0.018279</td>\n",
       "      <td>0.277775</td>\n",
       "      <td>0.326394</td>\n",
       "      <td>1.293750</td>\n",
       "      <td>0.178136</td>\n",
       "      <td>0.179117</td>\n",
       "    </tr>\n",
       "  </tbody>\n",
       "</table>\n",
       "<p>5 rows × 167 columns</p>\n",
       "</div>"
      ],
      "text/plain": [
       "         0    1         2         3         4          5         6    \\\n",
       "0  230425980    1 -0.171469 -0.184668 -1.201369  -0.121970 -0.043875   \n",
       "1    5530458    1 -0.171484 -0.184668 -1.201369  -0.121970 -0.043875   \n",
       "2  232022460    1 -0.172107 -0.184668 -1.201369  -0.121970 -0.043875   \n",
       "3  232438397    1  0.163054  1.963790 -0.646376  12.409294 -0.063725   \n",
       "4  230460314    1  1.011523 -0.081127 -1.201369   1.153668  0.333276   \n",
       "\n",
       "        7          8         9    ...       157       158       159       160  \\\n",
       "0 -0.113002  -0.061584 -0.162097  ... -0.562153 -0.600999  1.461330  1.461369   \n",
       "1 -0.113002  -0.061584 -0.162112  ...  0.947382  0.673103 -0.979074 -0.978556   \n",
       "2 -0.113002  -0.061584 -0.162749  ...  0.670883  0.439728 -0.979074 -0.978556   \n",
       "3  9.782742  12.414558 -0.163645  ... -0.577099 -0.613614  0.241128  0.241406   \n",
       "4  1.312656  -0.061584 -0.163523  ... -0.511871 -0.400422  0.517257  0.579382   \n",
       "\n",
       "        161       162       163       164       165       166  \n",
       "0  0.018279 -0.087490 -0.131155 -0.097524 -0.120613 -0.119792  \n",
       "1  0.018279 -0.087490 -0.131155 -0.097524 -0.120613 -0.119792  \n",
       "2 -0.098889 -0.106715 -0.131155 -0.183671 -0.120613 -0.119792  \n",
       "3  1.072793  0.085530 -0.131155  0.677799 -0.120613 -0.119792  \n",
       "4  0.018279  0.277775  0.326394  1.293750  0.178136  0.179117  \n",
       "\n",
       "[5 rows x 167 columns]"
      ]
     },
     "execution_count": 4,
     "metadata": {},
     "output_type": "execute_result"
    }
   ],
   "source": [
    "# here column 0 stands for node_id, column 1 is the time axis\n",
    "df_features.head()"
   ]
  },
  {
   "cell_type": "code",
   "execution_count": 5,
   "id": "5de29d33-eca1-4c70-b0bb-10bb50b267e8",
   "metadata": {},
   "outputs": [
    {
     "data": {
      "text/html": [
       "<div>\n",
       "<style scoped>\n",
       "    .dataframe tbody tr th:only-of-type {\n",
       "        vertical-align: middle;\n",
       "    }\n",
       "\n",
       "    .dataframe tbody tr th {\n",
       "        vertical-align: top;\n",
       "    }\n",
       "\n",
       "    .dataframe thead th {\n",
       "        text-align: right;\n",
       "    }\n",
       "</style>\n",
       "<table border=\"1\" class=\"dataframe\">\n",
       "  <thead>\n",
       "    <tr style=\"text-align: right;\">\n",
       "      <th></th>\n",
       "      <th>txId1</th>\n",
       "      <th>txId2</th>\n",
       "    </tr>\n",
       "  </thead>\n",
       "  <tbody>\n",
       "    <tr>\n",
       "      <th>0</th>\n",
       "      <td>230425980</td>\n",
       "      <td>5530458</td>\n",
       "    </tr>\n",
       "    <tr>\n",
       "      <th>1</th>\n",
       "      <td>232022460</td>\n",
       "      <td>232438397</td>\n",
       "    </tr>\n",
       "    <tr>\n",
       "      <th>2</th>\n",
       "      <td>230460314</td>\n",
       "      <td>230459870</td>\n",
       "    </tr>\n",
       "    <tr>\n",
       "      <th>3</th>\n",
       "      <td>230333930</td>\n",
       "      <td>230595899</td>\n",
       "    </tr>\n",
       "    <tr>\n",
       "      <th>4</th>\n",
       "      <td>232013274</td>\n",
       "      <td>232029206</td>\n",
       "    </tr>\n",
       "  </tbody>\n",
       "</table>\n",
       "</div>"
      ],
      "text/plain": [
       "       txId1      txId2\n",
       "0  230425980    5530458\n",
       "1  232022460  232438397\n",
       "2  230460314  230459870\n",
       "3  230333930  230595899\n",
       "4  232013274  232029206"
      ]
     },
     "execution_count": 5,
     "metadata": {},
     "output_type": "execute_result"
    }
   ],
   "source": [
    "df_edges.head()"
   ]
  },
  {
   "cell_type": "code",
   "execution_count": 6,
   "id": "0d0f195d-a34b-437d-bd2e-d9154b022c6f",
   "metadata": {},
   "outputs": [
    {
     "data": {
      "text/html": [
       "<div>\n",
       "<style scoped>\n",
       "    .dataframe tbody tr th:only-of-type {\n",
       "        vertical-align: middle;\n",
       "    }\n",
       "\n",
       "    .dataframe tbody tr th {\n",
       "        vertical-align: top;\n",
       "    }\n",
       "\n",
       "    .dataframe thead th {\n",
       "        text-align: right;\n",
       "    }\n",
       "</style>\n",
       "<table border=\"1\" class=\"dataframe\">\n",
       "  <thead>\n",
       "    <tr style=\"text-align: right;\">\n",
       "      <th></th>\n",
       "      <th>txId</th>\n",
       "      <th>class</th>\n",
       "    </tr>\n",
       "  </thead>\n",
       "  <tbody>\n",
       "    <tr>\n",
       "      <th>0</th>\n",
       "      <td>230425980</td>\n",
       "      <td>2</td>\n",
       "    </tr>\n",
       "    <tr>\n",
       "      <th>1</th>\n",
       "      <td>5530458</td>\n",
       "      <td>2</td>\n",
       "    </tr>\n",
       "    <tr>\n",
       "      <th>2</th>\n",
       "      <td>232022460</td>\n",
       "      <td>2</td>\n",
       "    </tr>\n",
       "    <tr>\n",
       "      <th>3</th>\n",
       "      <td>232438397</td>\n",
       "      <td>0</td>\n",
       "    </tr>\n",
       "    <tr>\n",
       "      <th>4</th>\n",
       "      <td>230460314</td>\n",
       "      <td>2</td>\n",
       "    </tr>\n",
       "  </tbody>\n",
       "</table>\n",
       "</div>"
      ],
      "text/plain": [
       "        txId  class\n",
       "0  230425980      2\n",
       "1    5530458      2\n",
       "2  232022460      2\n",
       "3  232438397      0\n",
       "4  230460314      2"
      ]
     },
     "execution_count": 6,
     "metadata": {},
     "output_type": "execute_result"
    }
   ],
   "source": [
    "df_classes.head()"
   ]
  },
  {
   "cell_type": "markdown",
   "id": "e15f4f7c-1059-4370-89aa-9bdd7a2c0ac9",
   "metadata": {},
   "source": [
    "0 - legitimate<br>\n",
    "1 - fraud<br>\n",
    "2 - unknown class<br>"
   ]
  },
  {
   "cell_type": "code",
   "execution_count": 7,
   "id": "0204623c-1108-4fc5-b230-a8d1e97ab421",
   "metadata": {},
   "outputs": [
    {
     "data": {
      "text/plain": [
       "2    157205\n",
       "0     42019\n",
       "1      4545\n",
       "Name: class, dtype: int64"
      ]
     },
     "execution_count": 7,
     "metadata": {},
     "output_type": "execute_result"
    }
   ],
   "source": [
    "df_classes['class'].value_counts()"
   ]
  },
  {
   "cell_type": "code",
   "execution_count": 8,
   "id": "13daa363-ce0f-46d0-8a64-c1ba209ad31f",
   "metadata": {},
   "outputs": [],
   "source": [
    "# merging node features DF with classes DF\n",
    "df_merge = df_features.merge(df_classes, how='left', right_on=\"txId\", left_on=0)\n",
    "df_merge = df_merge.sort_values(0).reset_index(drop=True)\n",
    "\n",
    "# extracting classified/non-classified nodes\n",
    "classified = df_merge.loc[df_merge['class'].loc[df_merge['class']!=2].index].drop('txId', axis=1)\n",
    "unclassified = df_merge.loc[df_merge['class'].loc[df_merge['class']==2].index].drop('txId', axis=1)\n",
    "\n",
    "# extracting classified/non-classified edges\n",
    "classified_edges = df_edges.loc[df_edges['txId1'].isin(classified[0]) & df_edges['txId2'].isin(classified[0])]\n",
    "unclassifed_edges = df_edges.loc[df_edges['txId1'].isin(unclassified[0]) | df_edges['txId2'].isin(unclassified[0])]"
   ]
  },
  {
   "cell_type": "code",
   "execution_count": 9,
   "id": "1713a1cc-10ed-469c-8311-13a37d1a2ce0",
   "metadata": {},
   "outputs": [
    {
     "data": {
      "text/html": [
       "<div>\n",
       "<style scoped>\n",
       "    .dataframe tbody tr th:only-of-type {\n",
       "        vertical-align: middle;\n",
       "    }\n",
       "\n",
       "    .dataframe tbody tr th {\n",
       "        vertical-align: top;\n",
       "    }\n",
       "\n",
       "    .dataframe thead th {\n",
       "        text-align: right;\n",
       "    }\n",
       "</style>\n",
       "<table border=\"1\" class=\"dataframe\">\n",
       "  <thead>\n",
       "    <tr style=\"text-align: right;\">\n",
       "      <th></th>\n",
       "      <th>0</th>\n",
       "      <th>1</th>\n",
       "      <th>2</th>\n",
       "      <th>3</th>\n",
       "      <th>4</th>\n",
       "      <th>5</th>\n",
       "      <th>6</th>\n",
       "      <th>7</th>\n",
       "      <th>8</th>\n",
       "      <th>9</th>\n",
       "      <th>...</th>\n",
       "      <th>159</th>\n",
       "      <th>160</th>\n",
       "      <th>161</th>\n",
       "      <th>162</th>\n",
       "      <th>163</th>\n",
       "      <th>164</th>\n",
       "      <th>165</th>\n",
       "      <th>166</th>\n",
       "      <th>txId</th>\n",
       "      <th>class</th>\n",
       "    </tr>\n",
       "  </thead>\n",
       "  <tbody>\n",
       "    <tr>\n",
       "      <th>0</th>\n",
       "      <td>1076</td>\n",
       "      <td>48</td>\n",
       "      <td>-0.168500</td>\n",
       "      <td>0.270909</td>\n",
       "      <td>-0.091383</td>\n",
       "      <td>-0.046932</td>\n",
       "      <td>-0.043875</td>\n",
       "      <td>-0.029140</td>\n",
       "      <td>-0.061584</td>\n",
       "      <td>-0.163591</td>\n",
       "      <td>...</td>\n",
       "      <td>1.461330</td>\n",
       "      <td>1.461369</td>\n",
       "      <td>0.018279</td>\n",
       "      <td>0.470019</td>\n",
       "      <td>1.216796</td>\n",
       "      <td>1.151607</td>\n",
       "      <td>1.519700</td>\n",
       "      <td>1.521399</td>\n",
       "      <td>1076</td>\n",
       "      <td>2</td>\n",
       "    </tr>\n",
       "    <tr>\n",
       "      <th>1</th>\n",
       "      <td>2534</td>\n",
       "      <td>6</td>\n",
       "      <td>-0.170834</td>\n",
       "      <td>-0.131425</td>\n",
       "      <td>1.018602</td>\n",
       "      <td>0.028105</td>\n",
       "      <td>0.055376</td>\n",
       "      <td>0.054722</td>\n",
       "      <td>-0.061584</td>\n",
       "      <td>-0.163572</td>\n",
       "      <td>...</td>\n",
       "      <td>0.955101</td>\n",
       "      <td>0.459257</td>\n",
       "      <td>-0.098889</td>\n",
       "      <td>-0.087490</td>\n",
       "      <td>-0.099080</td>\n",
       "      <td>-0.122137</td>\n",
       "      <td>-0.379970</td>\n",
       "      <td>-0.379288</td>\n",
       "      <td>2534</td>\n",
       "      <td>0</td>\n",
       "    </tr>\n",
       "    <tr>\n",
       "      <th>2</th>\n",
       "      <td>3181</td>\n",
       "      <td>34</td>\n",
       "      <td>1.305212</td>\n",
       "      <td>-0.210553</td>\n",
       "      <td>-1.756361</td>\n",
       "      <td>-0.121970</td>\n",
       "      <td>97.300650</td>\n",
       "      <td>-0.113002</td>\n",
       "      <td>-0.061584</td>\n",
       "      <td>1.348765</td>\n",
       "      <td>...</td>\n",
       "      <td>0.059948</td>\n",
       "      <td>0.113967</td>\n",
       "      <td>-0.098889</td>\n",
       "      <td>1.969527</td>\n",
       "      <td>0.037532</td>\n",
       "      <td>-0.131010</td>\n",
       "      <td>0.006994</td>\n",
       "      <td>0.017772</td>\n",
       "      <td>3181</td>\n",
       "      <td>0</td>\n",
       "    </tr>\n",
       "    <tr>\n",
       "      <th>3</th>\n",
       "      <td>3321</td>\n",
       "      <td>1</td>\n",
       "      <td>-0.169615</td>\n",
       "      <td>-0.184668</td>\n",
       "      <td>-1.201369</td>\n",
       "      <td>-0.121970</td>\n",
       "      <td>-0.043875</td>\n",
       "      <td>-0.113002</td>\n",
       "      <td>-0.061584</td>\n",
       "      <td>-0.160199</td>\n",
       "      <td>...</td>\n",
       "      <td>0.241128</td>\n",
       "      <td>0.241406</td>\n",
       "      <td>-0.098889</td>\n",
       "      <td>-0.087490</td>\n",
       "      <td>-0.084674</td>\n",
       "      <td>-0.140597</td>\n",
       "      <td>1.519700</td>\n",
       "      <td>1.521399</td>\n",
       "      <td>3321</td>\n",
       "      <td>2</td>\n",
       "    </tr>\n",
       "    <tr>\n",
       "      <th>4</th>\n",
       "      <td>3889</td>\n",
       "      <td>48</td>\n",
       "      <td>-0.086232</td>\n",
       "      <td>-0.101835</td>\n",
       "      <td>-0.646376</td>\n",
       "      <td>-0.121970</td>\n",
       "      <td>17.046997</td>\n",
       "      <td>-0.113002</td>\n",
       "      <td>-0.061584</td>\n",
       "      <td>-0.074885</td>\n",
       "      <td>...</td>\n",
       "      <td>0.082065</td>\n",
       "      <td>0.114773</td>\n",
       "      <td>-0.098889</td>\n",
       "      <td>8.948005</td>\n",
       "      <td>1.024948</td>\n",
       "      <td>-0.009570</td>\n",
       "      <td>-0.080708</td>\n",
       "      <td>-0.123601</td>\n",
       "      <td>3889</td>\n",
       "      <td>2</td>\n",
       "    </tr>\n",
       "  </tbody>\n",
       "</table>\n",
       "<p>5 rows × 169 columns</p>\n",
       "</div>"
      ],
      "text/plain": [
       "      0   1         2         3         4         5          6         7  \\\n",
       "0  1076  48 -0.168500  0.270909 -0.091383 -0.046932  -0.043875 -0.029140   \n",
       "1  2534   6 -0.170834 -0.131425  1.018602  0.028105   0.055376  0.054722   \n",
       "2  3181  34  1.305212 -0.210553 -1.756361 -0.121970  97.300650 -0.113002   \n",
       "3  3321   1 -0.169615 -0.184668 -1.201369 -0.121970  -0.043875 -0.113002   \n",
       "4  3889  48 -0.086232 -0.101835 -0.646376 -0.121970  17.046997 -0.113002   \n",
       "\n",
       "          8         9  ...       159       160       161       162       163  \\\n",
       "0 -0.061584 -0.163591  ...  1.461330  1.461369  0.018279  0.470019  1.216796   \n",
       "1 -0.061584 -0.163572  ...  0.955101  0.459257 -0.098889 -0.087490 -0.099080   \n",
       "2 -0.061584  1.348765  ...  0.059948  0.113967 -0.098889  1.969527  0.037532   \n",
       "3 -0.061584 -0.160199  ...  0.241128  0.241406 -0.098889 -0.087490 -0.084674   \n",
       "4 -0.061584 -0.074885  ...  0.082065  0.114773 -0.098889  8.948005  1.024948   \n",
       "\n",
       "        164       165       166  txId  class  \n",
       "0  1.151607  1.519700  1.521399  1076      2  \n",
       "1 -0.122137 -0.379970 -0.379288  2534      0  \n",
       "2 -0.131010  0.006994  0.017772  3181      0  \n",
       "3 -0.140597  1.519700  1.521399  3321      2  \n",
       "4 -0.009570 -0.080708 -0.123601  3889      2  \n",
       "\n",
       "[5 rows x 169 columns]"
      ]
     },
     "execution_count": 9,
     "metadata": {},
     "output_type": "execute_result"
    }
   ],
   "source": [
    "df_merge.head()"
   ]
  },
  {
   "cell_type": "markdown",
   "id": "9d8e428d-a83d-4ee2-83cc-c978d6aa902c",
   "metadata": {},
   "source": [
    "## Preparing edges"
   ]
  },
  {
   "cell_type": "code",
   "execution_count": 10,
   "id": "be290324-29dc-4c2c-ac56-ad86597d90a2",
   "metadata": {},
   "outputs": [
    {
     "name": "stdout",
     "output_type": "stream",
     "text": [
      "Total amount of edges in DAG: torch.Size([2, 234355])\n"
     ]
    }
   ],
   "source": [
    "# mapping nodes to indices\n",
    "nodes = df_merge[0].values\n",
    "map_id = {j:i for i,j in enumerate(nodes)}\n",
    "\n",
    "# mapping edges to indices\n",
    "edges = df_edges.copy()\n",
    "edges.txId1 = edges.txId1.map(map_id)\n",
    "edges.txId2 = edges.txId2.map(map_id)\n",
    "edges = edges.astype(int)\n",
    "\n",
    "edge_index = np.array(edges.values).T\n",
    "edge_index = torch.tensor(edge_index, dtype=torch.long).contiguous()\n",
    "\n",
    "# weights for the edges are equal in case of model without attention\n",
    "weights = torch.tensor([1] * edge_index.shape[1] , dtype=torch.float32)\n",
    "\n",
    "print(\"Total amount of edges in DAG:\", edge_index.shape)"
   ]
  },
  {
   "cell_type": "markdown",
   "id": "eead6786-7d2e-4ae0-a5b9-b87200001d9c",
   "metadata": {},
   "source": [
    "## Preparing nodes"
   ]
  },
  {
   "cell_type": "code",
   "execution_count": 11,
   "id": "88255e48-cd74-421c-9f9a-2312b49f0b5d",
   "metadata": {},
   "outputs": [],
   "source": [
    "# maping node ids to corresponding indexes\n",
    "node_features = df_merge.drop(['txId'], axis=1).copy()\n",
    "node_features[0] = node_features[0].map(map_id)\n",
    "\n",
    "classified_idx = node_features['class'].loc[node_features['class']!=2].index\n",
    "unclassified_idx = node_features['class'].loc[node_features['class']==2].index\n",
    "\n",
    "# replace unkown class with 0, to avoid having 3 classes, this data/labels never used in training\n",
    "node_features['class'] = node_features['class'].replace(2, 0) \n",
    "\n",
    "labels = node_features['class'].values\n",
    "\n",
    "# drop indeces, class and temporal axes \n",
    "node_features = torch.tensor(np.array(node_features.drop([0, 'class', 1], axis=1).values, dtype=np.float32), dtype=torch.float32)"
   ]
  },
  {
   "cell_type": "markdown",
   "id": "d9fa3926-a7ae-461a-89de-42254ceef1ef",
   "metadata": {},
   "source": [
    "## PyG Dataset"
   ]
  },
  {
   "cell_type": "code",
   "execution_count": 12,
   "id": "d864b8f6-8fbd-405d-a207-b44fed20baeb",
   "metadata": {},
   "outputs": [
    {
     "name": "stdout",
     "output_type": "stream",
     "text": [
      "Number of nodes: 203769\n",
      "Number of node features: 165\n",
      "Number of edges: 234355\n",
      "Number of edge features: 165\n",
      "Average node degree: 1.15\n",
      "Number of classes: 2\n",
      "Has isolated nodes: False\n",
      "Has self loops: False\n",
      "Is directed: True\n"
     ]
    }
   ],
   "source": [
    "# converting data to PyGeometric graph data format\n",
    "elliptic_dataset = Data(x = node_features, \n",
    "                        edge_index = edge_index, \n",
    "                        edge_attr = weights,\n",
    "                        y = torch.tensor(labels, dtype=torch.float32)) \n",
    "\n",
    "print(f'Number of nodes: {elliptic_dataset.num_nodes}')\n",
    "print(f'Number of node features: {elliptic_dataset.num_features}')\n",
    "print(f'Number of edges: {elliptic_dataset.num_edges}')\n",
    "print(f'Number of edge features: {elliptic_dataset.num_features}')\n",
    "print(f'Average node degree: {elliptic_dataset.num_edges / elliptic_dataset.num_nodes:.2f}')\n",
    "print(f'Number of classes: {len(np.unique(elliptic_dataset.y))}')\n",
    "print(f'Has isolated nodes: {elliptic_dataset.has_isolated_nodes()}')\n",
    "print(f'Has self loops: {elliptic_dataset.has_self_loops()}')\n",
    "print(f'Is directed: {elliptic_dataset.is_directed()}')"
   ]
  },
  {
   "cell_type": "code",
   "execution_count": 13,
   "id": "ba6d243f-1fb2-4c88-8bd8-544167054d49",
   "metadata": {},
   "outputs": [],
   "source": [
    "y_train = labels[classified_idx]\n",
    "\n",
    "# spliting train set and validation set\n",
    "_, _, _, _, train_idx, valid_idx = \\\n",
    "    train_test_split(node_features[classified_idx], \n",
    "                     y_train, \n",
    "                     classified_idx, \n",
    "                     test_size=0.15, \n",
    "                     random_state=Config.seed, \n",
    "                     stratify=y_train)"
   ]
  },
  {
   "cell_type": "code",
   "execution_count": 14,
   "id": "404f0000-70bd-4963-96a6-07d53523feaa",
   "metadata": {},
   "outputs": [
    {
     "name": "stdout",
     "output_type": "stream",
     "text": [
      "Train dataset size: 39579\n",
      "Validation dataset size: 6985\n",
      "Test dataset size: 157205\n"
     ]
    }
   ],
   "source": [
    "elliptic_dataset.train_idx = torch.tensor(train_idx, dtype=torch.long)\n",
    "elliptic_dataset.val_idx = torch.tensor(valid_idx, dtype=torch.long)\n",
    "elliptic_dataset.test_idx = torch.tensor(unclassified_idx, dtype=torch.long)\n",
    "\n",
    "print(\"Train dataset size:\", elliptic_dataset.train_idx.shape[0])\n",
    "print(\"Validation dataset size:\", elliptic_dataset.val_idx.shape[0])\n",
    "print(\"Test dataset size:\", elliptic_dataset.test_idx.shape[0])"
   ]
  },
  {
   "cell_type": "code",
   "execution_count": 15,
   "id": "00bb9a5a-e93f-422a-bc66-c2f28709a26c",
   "metadata": {},
   "outputs": [],
   "source": [
    "# G = to_networkx(data_train, to_undirected=True)\n",
    "# plt.figure(figsize=(18,18))\n",
    "# plt.axis('off')\n",
    "# nx.draw_networkx(G,\n",
    "#                 pos=nx.spring_layout(G, seed=0),\n",
    "#                 with_labels=False,\n",
    "#                 node_size=50,\n",
    "#                 node_color=data.y,\n",
    "#                 width=2,\n",
    "#                 edge_color=\"grey\"\n",
    "#                 )\n",
    "# plt.show()"
   ]
  },
  {
   "cell_type": "markdown",
   "id": "aa70deba-dc72-44d5-a4c8-c2201e59b240",
   "metadata": {},
   "source": [
    "## Models"
   ]
  },
  {
   "cell_type": "code",
   "execution_count": 20,
   "id": "8093b715-99eb-492d-bc0b-fd8c3cf19d45",
   "metadata": {},
   "outputs": [],
   "source": [
    "class GCN(torch.nn.Module):\n",
    "    \"\"\"Graph Convolutional Network\"\"\"\n",
    "    def __init__(self, dim_in, dim_h, dim_out):\n",
    "        super(GCN, self).__init__()\n",
    "        \n",
    "        self.gcn1 = GCNConv(dim_in, dim_h)\n",
    "        self.gcn2 = GCNConv(dim_h, dim_out)\n",
    "        \n",
    "    def forward(self, x, edge_index):\n",
    "        h = self.gcn1(x, edge_index)\n",
    "        h = torch.relu(h)\n",
    "        h = F.dropout(h, p=0.6, training=self.training)\n",
    "        out = self.gcn2(h, edge_index)\n",
    "        return out\n",
    "    \n",
    "class GAT(torch.nn.Module):\n",
    "    \"\"\"Graph Attention Network\"\"\"\n",
    "    def __init__(self, dim_in, dim_h, dim_out, heads=8):\n",
    "        super(GAT, self).__init__()\n",
    "        self.gat1 = GATv2Conv(dim_in, dim_h, heads=heads, dropout=0.6)\n",
    "        self.gat2 = GATv2Conv(dim_h*heads, dim_out, concat=False, heads=1, dropout=0.6)\n",
    "\n",
    "    def forward(self, x, edge_index):\n",
    "        h = F.dropout(x, p=0.6, training=self.training)\n",
    "        h = self.gat1(h, edge_index)\n",
    "        h = F.elu(h)\n",
    "        h = F.dropout(h, p=0.6, training=self.training)\n",
    "        out = self.gat2(h, edge_index)\n",
    "        return out\n",
    "    \n",
    "def accuracy(y_pred, y_test, prediction_threshold=0.5):\n",
    "    y_pred_label = (torch.sigmoid(y_pred) > prediction_threshold).float()*1\n",
    "\n",
    "    correct_results_sum = (y_pred_label == y_test).sum().float()\n",
    "    acc = correct_results_sum/y_test.shape[0]\n",
    "\n",
    "    return acc"
   ]
  },
  {
   "cell_type": "markdown",
   "id": "2169b21f-d0ae-481a-be01-73253825a5fc",
   "metadata": {
    "tags": []
   },
   "source": [
    "## Train/test helpers"
   ]
  },
  {
   "cell_type": "code",
   "execution_count": 21,
   "id": "6fef8088-b372-45c5-9f13-f92593fe2693",
   "metadata": {},
   "outputs": [],
   "source": [
    "def train_evaluate(model, data, criterion, optimizer, *args):\n",
    "    num_epochs = args[0]\n",
    "    checkpoints_dir = args[1]\n",
    "    model_filename = args[2]\n",
    "\n",
    "    best_model_wts = copy.deepcopy(model.state_dict())\n",
    "\n",
    "    best_loss = 10e10\n",
    "\n",
    "    if not os.path.exists(checkpoints_dir):\n",
    "        os.makedirs(checkpoints_dir)\n",
    "\n",
    "    model.train()\n",
    "    for epoch in range(num_epochs+1):\n",
    "        # Training\n",
    "        optimizer.zero_grad()\n",
    "        out = model(data.x, data.edge_index)\n",
    "        loss = criterion(out[data.train_idx], data.y[data.train_idx].unsqueeze(1))\n",
    "        acc = accuracy(out[data.train_idx], data.y[data.train_idx].unsqueeze(1), prediction_threshold=0.5)\n",
    "        loss.backward()\n",
    "        optimizer.step()\n",
    "\n",
    "        # Validation\n",
    "        val_loss = criterion(out[data.val_idx], data.y[data.val_idx].unsqueeze(1))\n",
    "        val_acc = accuracy(out[data.val_idx], data.y[data.val_idx].unsqueeze(1), prediction_threshold=0.5)\n",
    "\n",
    "        if(epoch % 10 == 0):\n",
    "            print(f'Epoch {epoch:>3} | Train Loss: {loss:.3f} | Train Acc: '\n",
    "                  f'{acc*100:>6.2f}% | Val Loss: {val_loss:.2f} | '\n",
    "                  f'Val Acc: {val_acc*100:.2f}%')\n",
    "        \n",
    "            if val_loss < best_loss:\n",
    "                best_loss = val_loss\n",
    "                print(\"Saving model for best loss\")\n",
    "                checkpoint = {\n",
    "                    'state_dict': best_model_wts\n",
    "                }\n",
    "                torch.save(checkpoint, os.path.join(checkpoints_dir, model_filename))\n",
    "                best_model_wts = copy.deepcopy(model.state_dict())\n",
    "\n",
    "    return model\n",
    "\n",
    "def test(model, data):\n",
    "    model.eval()\n",
    "    out = model(data.x, data.edge_index) \n",
    "    preds = ((torch.sigmoid(out) > 0.5).float()*1).squeeze(1)\n",
    "    return preds"
   ]
  },
  {
   "cell_type": "markdown",
   "id": "2d9be37b-cf67-429d-ae36-1c5e7439130b",
   "metadata": {},
   "source": [
    "## Train GCN"
   ]
  },
  {
   "cell_type": "code",
   "execution_count": 22,
   "id": "cbcd33d4-4b19-4963-9058-0e9654b065f4",
   "metadata": {},
   "outputs": [],
   "source": [
    "gcn_model = GCN(Config.input_dim, Config.hidden_size, Config.output_dim).to(Config.device)\n",
    "data_train = elliptic_dataset.to(Config.device)\n",
    "\n",
    "optimizer = torch.optim.Adam(gcn_model.parameters(), lr=Config.learning_rate, weight_decay=Config.weight_decay)\n",
    "scheduler = torch.optim.lr_scheduler.ReduceLROnPlateau(optimizer, 'min')\n",
    "criterion = torch.nn.BCEWithLogitsLoss()"
   ]
  },
  {
   "cell_type": "code",
   "execution_count": 23,
   "id": "a1394af1-e3b0-4b46-9b30-e88b744d2757",
   "metadata": {},
   "outputs": [
    {
     "name": "stdout",
     "output_type": "stream",
     "text": [
      "Epoch   0 | Train Loss: 0.759 | Train Acc:  62.16% | Val Loss: 0.73 | Val Acc: 64.07%\n",
      "Saving model for best loss\n",
      "Epoch  10 | Train Loss: 0.307 | Train Acc:  86.43% | Val Loss: 0.30 | Val Acc: 87.16%\n",
      "Saving model for best loss\n",
      "Epoch  20 | Train Loss: 0.258 | Train Acc:  89.52% | Val Loss: 0.25 | Val Acc: 89.61%\n",
      "Saving model for best loss\n",
      "Epoch  30 | Train Loss: 0.244 | Train Acc:  90.49% | Val Loss: 0.24 | Val Acc: 90.32%\n",
      "Saving model for best loss\n",
      "Epoch  40 | Train Loss: 0.230 | Train Acc:  91.32% | Val Loss: 0.22 | Val Acc: 91.40%\n",
      "Saving model for best loss\n",
      "Epoch  50 | Train Loss: 0.219 | Train Acc:  91.85% | Val Loss: 0.22 | Val Acc: 91.77%\n",
      "Saving model for best loss\n",
      "Epoch  60 | Train Loss: 0.214 | Train Acc:  92.35% | Val Loss: 0.21 | Val Acc: 92.61%\n",
      "Saving model for best loss\n",
      "Epoch  70 | Train Loss: 0.210 | Train Acc:  92.60% | Val Loss: 0.21 | Val Acc: 92.80%\n",
      "Saving model for best loss\n",
      "Epoch  80 | Train Loss: 0.201 | Train Acc:  92.86% | Val Loss: 0.20 | Val Acc: 92.81%\n",
      "Saving model for best loss\n",
      "Epoch  90 | Train Loss: 0.195 | Train Acc:  93.15% | Val Loss: 0.20 | Val Acc: 92.81%\n",
      "Saving model for best loss\n",
      "Epoch 100 | Train Loss: 0.194 | Train Acc:  93.25% | Val Loss: 0.19 | Val Acc: 93.53%\n",
      "Saving model for best loss\n"
     ]
    },
    {
     "data": {
      "text/plain": [
       "GCN(\n",
       "  (gcn1): GCNConv(165, 128)\n",
       "  (gcn2): GCNConv(128, 1)\n",
       ")"
      ]
     },
     "execution_count": 23,
     "metadata": {},
     "output_type": "execute_result"
    }
   ],
   "source": [
    "train_evaluate(gcn_model,\n",
    "              data_train,\n",
    "              criterion,\n",
    "              optimizer,\n",
    "              Config.num_epochs,\n",
    "              Config.checkpoints_dir,\n",
    "              'gcn_best_model.pth.tar')"
   ]
  },
  {
   "cell_type": "markdown",
   "id": "0b6ae7ae-9f2f-44fc-816e-2a406edb8912",
   "metadata": {},
   "source": [
    "## Test GCN"
   ]
  },
  {
   "cell_type": "code",
   "execution_count": 24,
   "id": "041569d5-b24e-491b-ab62-096e014b7bc5",
   "metadata": {},
   "outputs": [
    {
     "data": {
      "image/png": "[encoded data removed]",
      "text/plain": [
       "<Figure size 432x432 with 1 Axes>"
      ]
     },
     "metadata": {},
     "output_type": "display_data"
    },
    {
     "name": "stdout",
     "output_type": "stream",
     "text": [
      "              precision    recall  f1-score   support\n",
      "\n",
      "       licit       0.94      0.99      0.97      6303\n",
      "     illicit       0.85      0.45      0.59       682\n",
      "\n",
      "    accuracy                           0.94      6985\n",
      "   macro avg       0.90      0.72      0.78      6985\n",
      "weighted avg       0.93      0.94      0.93      6985\n",
      "\n",
      "Test data fraud cases, percentage: 6.191278903342769 %\n"
     ]
    }
   ],
   "source": [
    "gcn_model.load_state_dict(torch.load(os.path.join(Config.checkpoints_dir, 'gcn_best_model.pth.tar'))['state_dict'])\n",
    "\n",
    "y_test_preds = test(gcn_model, data_train)\n",
    "\n",
    "# confusion matrix on validation data\n",
    "conf_mat = confusion_matrix(data_train.y[data_train.val_idx].detach().cpu().numpy(), y_test_preds[valid_idx])\n",
    "\n",
    "plt.subplots(figsize=(6,6))\n",
    "sns.set(font_scale=1.4)\n",
    "sns.heatmap(conf_mat, annot=True, fmt=\".0f\", annot_kws={\"size\": 16}, cbar=False)\n",
    "plt.xlabel('Target (true) Class'); plt.ylabel('Output (predicted) class'); plt.title('Confusion Matrix')\n",
    "plt.show();\n",
    "\n",
    "print(classification_report(data_train.y[data_train.val_idx].detach().cpu().numpy(),\n",
    "                            y_test_preds[valid_idx],\n",
    "                            target_names=['licit', 'illicit']))\n",
    "\n",
    "\n",
    "print(f\"Test data fraud cases, percentage: {y_test_preds[data_train.test_idx].detach().cpu().numpy().sum() / len(data_train.y[data_train.test_idx]) *100} %\")"
   ]
  },
  {
   "cell_type": "markdown",
   "id": "b9672996-7de9-4f4e-8746-7cc23422d41d",
   "metadata": {},
   "source": [
    "## Train GAT"
   ]
  },
  {
   "cell_type": "code",
   "execution_count": 18,
   "id": "c45fd8a8-b28e-404a-a899-16090f87b6f4",
   "metadata": {},
   "outputs": [
    {
     "name": "stdout",
     "output_type": "stream",
     "text": [
      "Epoch   0 | Train Loss: 1.176 | Train Acc:  68.34% | Val Loss: 1.01 | Val Acc: 68.33%\n",
      "Saving model for best loss\n",
      "Epoch  10 | Train Loss: 0.509 | Train Acc:  88.63% | Val Loss: 0.48 | Val Acc: 88.70%\n",
      "Saving model for best loss\n",
      "Epoch  20 | Train Loss: 0.489 | Train Acc:  90.09% | Val Loss: 0.49 | Val Acc: 89.94%\n",
      "Epoch  30 | Train Loss: 0.465 | Train Acc:  89.87% | Val Loss: 0.48 | Val Acc: 89.76%\n",
      "Saving model for best loss\n",
      "Epoch  40 | Train Loss: 0.448 | Train Acc:  89.81% | Val Loss: 0.44 | Val Acc: 90.15%\n",
      "Saving model for best loss\n",
      "Epoch  50 | Train Loss: 0.445 | Train Acc:  90.04% | Val Loss: 0.44 | Val Acc: 89.89%\n",
      "Epoch  60 | Train Loss: 0.443 | Train Acc:  90.22% | Val Loss: 0.44 | Val Acc: 90.45%\n",
      "Epoch  70 | Train Loss: 0.439 | Train Acc:  90.38% | Val Loss: 0.43 | Val Acc: 90.16%\n",
      "Saving model for best loss\n",
      "Epoch  80 | Train Loss: 0.426 | Train Acc:  90.57% | Val Loss: 0.43 | Val Acc: 90.41%\n",
      "Saving model for best loss\n",
      "Epoch  90 | Train Loss: 0.423 | Train Acc:  90.72% | Val Loss: 0.42 | Val Acc: 90.38%\n",
      "Saving model for best loss\n",
      "Epoch 100 | Train Loss: 0.418 | Train Acc:  90.72% | Val Loss: 0.42 | Val Acc: 90.74%\n",
      "Saving model for best loss\n"
     ]
    },
    {
     "data": {
      "text/plain": [
       "GAT(\n",
       "  (gat1): GATv2Conv(165, 128, heads=8)\n",
       "  (gat2): GATv2Conv(1024, 1, heads=1)\n",
       ")"
      ]
     },
     "execution_count": 18,
     "metadata": {},
     "output_type": "execute_result"
    }
   ],
   "source": [
    "gat_model = GAT(Config.input_dim, Config.hidden_size, Config.output_dim).to(Config.device)\n",
    "data_train = elliptic_dataset.to(Config.device)\n",
    "\n",
    "optimizer = torch.optim.Adam(gat_model.parameters(), lr=Config.learning_rate, weight_decay=Config.weight_decay)\n",
    "scheduler = torch.optim.lr_scheduler.ReduceLROnPlateau(optimizer, 'min')\n",
    "criterion = torch.nn.BCEWithLogitsLoss()\n",
    "\n",
    "train_evaluate(gat_model,\n",
    "               data_train,\n",
    "               criterion,\n",
    "               optimizer,\n",
    "               Config.num_epochs,\n",
    "               Config.checkpoints_dir,\n",
    "               'gat_best_model.pth.tar')"
   ]
  },
  {
   "cell_type": "markdown",
   "id": "4890a37b-6c09-43b7-9c15-99ea09756710",
   "metadata": {},
   "source": [
    "## Test GAT"
   ]
  },
  {
   "cell_type": "code",
   "execution_count": 19,
   "id": "40b2fa67-0960-448c-b760-7e25a8ae10f2",
   "metadata": {},
   "outputs": [
    {
     "data": {
      "image/png": "[encoded data removed]",
      "text/plain": [
       "<Figure size 432x432 with 1 Axes>"
      ]
     },
     "metadata": {
      "needs_background": "light"
     },
     "output_type": "display_data"
    },
    {
     "name": "stdout",
     "output_type": "stream",
     "text": [
      "              precision    recall  f1-score   support\n",
      "\n",
      "       licit       0.96      0.97      0.97      6303\n",
      "     illicit       0.68      0.67      0.68       682\n",
      "\n",
      "    accuracy                           0.94      6985\n",
      "   macro avg       0.82      0.82      0.82      6985\n",
      "weighted avg       0.94      0.94      0.94      6985\n",
      "\n",
      "Test data fraud cases, percentage: 18.133011036544637 %\n"
     ]
    }
   ],
   "source": [
    "gat_model.load_state_dict(torch.load(os.path.join(Config.checkpoints_dir, 'gat_best_model.pth.tar'))['state_dict'])\n",
    "\n",
    "y_test_preds = test(gat_model, data_train)\n",
    "\n",
    "# confusion matrix on validation data\n",
    "conf_mat = confusion_matrix(data_train.y[data_train.val_idx].detach().cpu().numpy(), y_test_preds[valid_idx])\n",
    "\n",
    "plt.subplots(figsize=(6,6))\n",
    "sns.set(font_scale=1.4)\n",
    "sns.heatmap(conf_mat, annot=True, fmt=\".0f\", annot_kws={\"size\": 16}, cbar=False)\n",
    "plt.xlabel('Target (true) Class'); plt.ylabel('Output (predicted) class'); plt.title('Confusion Matrix')\n",
    "plt.show();\n",
    "\n",
    "print(classification_report(data_train.y[data_train.val_idx].detach().cpu().numpy(),\n",
    "                            y_test_preds[valid_idx],\n",
    "                            target_names=['licit', 'illicit']))\n",
    "\n",
    "\n",
    "print(f\"Test data fraud cases, percentage: {y_test_preds[data_train.test_idx].detach().cpu().numpy().sum() / len(data_train.y[data_train.test_idx]) *100} %\")"
   ]
  },
  {
   "cell_type": "code",
   "execution_count": null,
   "id": "055ba1fd-99a6-4eff-92be-f51db9693e9c",
   "metadata": {},
   "outputs": [],
   "source": []
  }
 ],
 "metadata": {
  "kernelspec": {
   "display_name": "pytorch_metal",
   "language": "python",
   "name": "pytorch_metal"
  },
  "language_info": {
   "codemirror_mode": {
    "name": "ipython",
    "version": 3
   },
   "file_extension": ".py",
   "mimetype": "text/x-python",
   "name": "python",
   "nbconvert_exporter": "python",
   "pygments_lexer": "ipython3",
   "version": "3.9.13"
  }
 },
 "nbformat": 4,
 "nbformat_minor": 5
}
